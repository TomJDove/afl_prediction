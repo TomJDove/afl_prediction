{
 "cells": [
  {
   "cell_type": "code",
   "execution_count": 1,
   "metadata": {},
   "outputs": [],
   "source": [
    "\n",
    "import pandas as pd\n",
    "\n",
    "def processAFLData(source):\n",
    "\n",
    "    # Read CSV and convert date to the correct format\n",
    "    columns = [\"Game\", \"Season\", \"Date\", \"Round\", \"Home_Team\", \"Home_Points\", \"Away_Team\", \"Away_Points\"]\n",
    "    afl_df = pd.read_csv(source, usecols = columns)\n",
    "    afl_df[\"Date\"] = pd.to_datetime(afl_df[\"Date\"])\n",
    "\n",
    "    # Add a column which says whether the home or away team won (or a draw)\n",
    "    afl_df[\"Winner\"] = \"Home\"\n",
    "    afl_df.loc[afl_df[\"Home_Points\"] < afl_df[\"Away_Points\"], \"Winner\"] = \"Away\"\n",
    "    afl_df.loc[afl_df[\"Home_Points\"] == afl_df[\"Away_Points\"], \"Winner\"] = \"Draw\"\n",
    "\n",
    "    # Create new dataframe 'teams_df', containing the match data for individual teams.\n",
    "    # Start by getting the home teams.\n",
    "    homeCols = [\"Game\", \"Season\", \"Date\", \"Round\", \"Home_Team\", \"Home_Points\", \"Away_Points\"]\n",
    "    colNames = {\"Home_Team\":\"Team\", \"Home_Points\":\"PointsBy\", \"Away_Points\":\"PointsAgainst\"}\n",
    "    home_df = afl_df[homeCols].rename(columns = colNames)\n",
    "    home_df[\"Home/Away\"] = \"Home\"\n",
    "    home_df[\"Winner\"] = afl_df[\"Winner\"]\n",
    "\n",
    "    # Now get the away teams and add it to the dataframe\n",
    "    awayCols = [\"Game\", \"Season\", \"Date\", \"Round\", \"Away_Team\", \"Away_Points\", \"Home_Points\"]\n",
    "    colNames = {\"Away_Team\":\"Team\", \"Away_Points\":\"PointsBy\", \"Home_Points\":\"PointsAgainst\"}\n",
    "    away_df = afl_df[awayCols].rename(columns = colNames)\n",
    "    away_df[\"Home/Away\"] = \"Away\"\n",
    "    away_df[\"Winner\"] = afl_df[\"Winner\"]\n",
    "\n",
    "    # Join home and away teams together and sort by date\n",
    "    teams_df = pd.concat([home_df, away_df]).sort_values(by = \"Date\", ignore_index=True)\n",
    "\n",
    "    # Add a column which gives the performance score for the team's game\n",
    "    # Two points for a win, one for a draw, and none for a loss\n",
    "    teams_df['Performance'] = 2*(teams_df['Home/Away'] == teams_df[\"Winner\"]) + (teams_df['Home/Away'] == \"Draw\")\n",
    "\n",
    "    # Calculate the statistics, starting with the ones that are based on the current season.\n",
    "    seasons = teams_df.groupby(['Team', 'Season'])\n",
    "    teams_df['SeasonPointsBy'] = seasons['PointsBy'].cumsum() - teams_df['PointsBy']\n",
    "    teams_df['SeasonPointsAgainst'] = seasons['PointsAgainst'].cumsum() - teams_df['PointsAgainst']  \n",
    "    teams_df['SeasonPerformance'] = seasons['Performance'].cumsum() - teams_df['Performance']\n",
    "\n",
    "    # Relative ranking of team by performance in season (higher rank means better performance).\n",
    "    roundGroups = teams_df.groupby(['Season', 'Round'])\n",
    "    teams_df['Ranking'] = roundGroups['SeasonPerformance'].rank(\"dense\")\n",
    "\n",
    "    # Now the stats that only depend on the team\n",
    "    teamGroups = teams_df.groupby(['Team'])\n",
    "\n",
    "    # Average points by, points against, and performance for a team in the last n=1...5 games\n",
    "    for n in range(1,6):\n",
    "        teams_df[('PointsBy_Last_' + str(n))] = teamGroups['PointsBy'].transform(lambda x: x.rolling(n,1).mean().shift())\n",
    "        teams_df[('PointsAgainst_Last_' + str(n))] = teamGroups['PointsAgainst'].transform(lambda x: x.rolling(n,1).mean().shift())\n",
    "        teams_df[('Performance_Last_' + str(n))] = teamGroups['Performance'].transform(lambda x: x.rolling(n,1).mean().shift())\n",
    "\n",
    "    \n",
    "    return teams_df"
   ]
  },
  {
   "cell_type": "code",
   "execution_count": 81,
   "metadata": {},
   "outputs": [],
   "source": [
    "teams_df = processAFLData('afl_matches.csv')"
   ]
  },
  {
   "cell_type": "code",
   "execution_count": 82,
   "metadata": {},
   "outputs": [],
   "source": [
    "\n",
    "# Put the data back together so that each row corresponds to a game with a home and away team\n",
    "# Start by separating home and away teams and adding 'Home' or 'Away' prefix to column names\n",
    "teams_df = teams_df.drop(columns = ['PointsAgainst', 'Performance', 'PointsBy'])\n"
   ]
  },
  {
   "cell_type": "code",
   "execution_count": 83,
   "metadata": {},
   "outputs": [],
   "source": [
    "unchangedCols = ['Game', 'Season', 'Date', 'Round', 'Winner', 'Home/Away', 'Team']\n",
    "diffCols = [name for name in teams_df.columns if name not in unchangedCols]"
   ]
  },
  {
   "cell_type": "code",
   "execution_count": 90,
   "metadata": {},
   "outputs": [],
   "source": [
    "matchStats = teams_df[teams_df['Home/Away'] == 'Home'].drop(columns = ['Home/Away'])\n",
    "matchStats = matchStats.rename(columns = {'Team':'HomeTeam'})"
   ]
  },
  {
   "cell_type": "code",
   "execution_count": 91,
   "metadata": {},
   "outputs": [],
   "source": [
    "awayStats = teams_df[teams_df['Home/Away'] == 'Away'].drop(columns = ['Home/Away'])\n",
    "matchStats.insert(5, \"AwayTeam\", awayStats['Team'].to_numpy())\n",
    "matchStats[diffCols] = matchStats[diffCols] - awayStats[diffCols].to_numpy()\n",
    "matchStats.to_csv('afl_stats2.csv')"
   ]
  },
  {
   "cell_type": "code",
   "execution_count": 92,
   "metadata": {},
   "outputs": [],
   "source": [
    "matchStats.insert(5, \"AwayTeam\", awayStats['Team'].to_numpy())\n",
    "matchStats[diffCols] = matchStats[diffCols] - awayStats[diffCols].to_numpy()\n",
    "matchStats.to_csv('afl_stats2.csv')"
   ]
  },
  {
   "cell_type": "code",
   "execution_count": 93,
   "metadata": {},
   "outputs": [],
   "source": []
  },
  {
   "cell_type": "code",
   "execution_count": 97,
   "metadata": {},
   "outputs": [],
   "source": []
  }
 ],
 "metadata": {
  "kernelspec": {
   "display_name": "Python 3",
   "language": "python",
   "name": "python3"
  },
  "language_info": {
   "codemirror_mode": {
    "name": "ipython",
    "version": 3
   },
   "file_extension": ".py",
   "mimetype": "text/x-python",
   "name": "python",
   "nbconvert_exporter": "python",
   "pygments_lexer": "ipython3",
   "version": "3.8.10"
  },
  "orig_nbformat": 4
 },
 "nbformat": 4,
 "nbformat_minor": 2
}
