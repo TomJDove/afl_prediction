{
 "cells": [
  {
   "attachments": {},
   "cell_type": "markdown",
   "metadata": {},
   "source": [
    "# AFL Match Prediction\n",
    "\n",
    "## Introduction"
   ]
  },
  {
   "attachments": {},
   "cell_type": "markdown",
   "metadata": {},
   "source": [
    "The Australian Football League (AFL) is one of the most watched and betted on sporting leagues in Australia.\n",
    "In this project, we train a machine learning model to predict the outcome of an AFL game using data from 2000 to the current day.\n",
    "\n",
    "We try several models: random forest classifier, logistic regression, state vector machines, and neural networks.\n",
    "\n",
    "Based on our data and the chosen extracted features, logistic regression was found to be the best predictor.\n",
    "When evaluated on the test set, containing matches from 2019 and later, this classifer had an accuracy of 65.77%."
   ]
  },
  {
   "attachments": {},
   "cell_type": "markdown",
   "metadata": {},
   "source": [
    "## Obtaining Data"
   ]
  },
  {
   "attachments": {},
   "cell_type": "markdown",
   "metadata": {},
   "source": [
    "First we will use the PyAFL package to extract data on AFL matches."
   ]
  },
  {
   "cell_type": "code",
   "execution_count": 93,
   "metadata": {},
   "outputs": [],
   "source": [
    "from pyAFL.seasons.models import Season\n",
    "\n",
    "season_dfs = []\n",
    "columns = ['Date', 'Home team', 'Away Team','Home team score', 'Away team score']\n",
    "\n",
    "for year in range(2000,2023):\n",
    "       stats = Season(year).get_season_stats().match_summary\n",
    "       season_dfs.append(stats[columns])\n",
    "\n",
    "match_df = pd.concat(season_dfs)\n"
   ]
  },
  {
   "attachments": {},
   "cell_type": "markdown",
   "metadata": {},
   "source": [
    "The following is function to calculate some basic features which we will use in our machine learning model.\n",
    "The features we calculate are as follows (each statistic is calculated for both the home and away team):\n",
    "\n",
    "- The number of points scored by and against the team in the current season.\n",
    "- The average number of points scored by and against the team in the last n games, with n ranging from 1 to 5.\n",
    "- The performance of the team in the current season. Performance is calculated as follows: 2 points is given for a win, 1 point for a draw, and zero points for a loss.\n",
    "- The average performance of the team in the last n games, with n ranging from 1 to 5.\n",
    "- The position of the team in a ranking of all the teams based on their performance this season."
   ]
  },
  {
   "cell_type": "code",
   "execution_count": 1,
   "metadata": {},
   "outputs": [],
   "source": [
    "import pandas as pd\n",
    "\n",
    "def processAFLData(source):\n",
    "\n",
    "    # Read CSV and convert date to the correct format\n",
    "    columns = [\"Game\", \"Season\", \"Date\", \"Round\", \"Home_Team\", \"Home_Points\", \"Away_Team\", \"Away_Points\"]\n",
    "    afl_df = pd.read_csv(source, usecols = columns)\n",
    "    afl_df[\"Date\"] = pd.to_datetime(afl_df[\"Date\"])\n",
    "\n",
    "    # Add a column which says whether the home or away team won (or a draw)\n",
    "    afl_df[\"Winner\"] = \"Home\"\n",
    "    afl_df.loc[afl_df[\"Home_Points\"] < afl_df[\"Away_Points\"], \"Winner\"] = \"Away\"\n",
    "    afl_df.loc[afl_df[\"Home_Points\"] == afl_df[\"Away_Points\"], \"Winner\"] = \"Draw\"\n",
    "\n",
    "    # Create new dataframe 'teams_df', containing the match data for individual teams.\n",
    "    # Start by getting the home teams.\n",
    "    homeCols = [\"Game\", \"Season\", \"Date\", \"Round\", \"Home_Team\", \"Home_Points\", \"Away_Points\"]\n",
    "    colNames = {\"Home_Team\":\"Team\", \"Home_Points\":\"PointsBy\", \"Away_Points\":\"PointsAgainst\"}\n",
    "    home_df = afl_df[homeCols].rename(columns = colNames)\n",
    "    home_df[\"Home/Away\"] = \"Home\"\n",
    "    home_df[\"Winner\"] = afl_df[\"Winner\"]\n",
    "\n",
    "    # Now get the away teams and add it to the dataframe\n",
    "    awayCols = [\"Game\", \"Season\", \"Date\", \"Round\", \"Away_Team\", \"Away_Points\", \"Home_Points\"]\n",
    "    colNames = {\"Away_Team\":\"Team\", \"Away_Points\":\"PointsBy\", \"Home_Points\":\"PointsAgainst\"}\n",
    "    away_df = afl_df[awayCols].rename(columns = colNames)\n",
    "    away_df[\"Home/Away\"] = \"Away\"\n",
    "    away_df[\"Winner\"] = afl_df[\"Winner\"]\n",
    "\n",
    "    # Join home and away teams together and sort by date\n",
    "    teams_df = pd.concat([home_df, away_df]).sort_values(by = \"Date\", ignore_index=True)\n",
    "\n",
    "    # Add a column which gives the performance score for the team's game\n",
    "    # Two points for a win, one for a draw, and none for a loss\n",
    "    teams_df['Performance'] = 2*(teams_df['Home/Away'] == teams_df[\"Winner\"]) + (teams_df['Home/Away'] == \"Draw\")\n",
    "\n",
    "    # Calculate the statistics, starting with the ones that are based on the current season.\n",
    "    seasons = teams_df.groupby(['Team', 'Season'])\n",
    "    teams_df['SeasonPointsBy'] = seasons['PointsBy'].cumsum() - teams_df['PointsBy']\n",
    "    teams_df['SeasonPointsAgainst'] = seasons['PointsAgainst'].cumsum() - teams_df['PointsAgainst']  \n",
    "    teams_df['SeasonPerformance'] = seasons['Performance'].cumsum() - teams_df['Performance']\n",
    "\n",
    "    # Relative ranking of team by performance in season (higher rank means better performance).\n",
    "    roundGroups = teams_df.groupby(['Season', 'Round'])\n",
    "    teams_df['Ranking'] = roundGroups['SeasonPerformance'].rank(\"dense\")\n",
    "\n",
    "    # Now the stats that only depend on the team\n",
    "    teamGroups = teams_df.groupby(['Team'])\n",
    "\n",
    "    # Average points by, points against, and performance for a team in the last n=1...5 games\n",
    "    for n in range(1,6):\n",
    "        teams_df[('PointsBy_Last_' + str(n))] = teamGroups['PointsBy'].transform(lambda x: x.rolling(n,1).mean().shift())\n",
    "        teams_df[('PointsAgainst_Last_' + str(n))] = teamGroups['PointsAgainst'].transform(lambda x: x.rolling(n,1).mean().shift())\n",
    "        teams_df[('Performance_Last_' + str(n))] = teamGroups['Performance'].transform(lambda x: x.rolling(n,1).mean().shift())\n",
    "\n",
    "    # Put the data back together so that each row corresponds to a game with a home and away team\n",
    "    # Start by separating home and away teams and adding 'Home' or 'Away' prefix to column names\n",
    "    teams_df = teams_df.drop(columns = ['PointsAgainst', 'Performance'])\n",
    "    unchangedCols = ['Game', 'Season', 'Date', 'Round', 'Winner', 'Home/Away']\n",
    "    oldColNames = [name for name in teams_df.columns if name not in unchangedCols]\n",
    "\n",
    "    homeStats = teams_df[teams_df['Home/Away'] == 'Home'].drop(columns = ['Home/Away'])\n",
    "    homeStats = homeStats.rename(columns = dict(zip(oldColNames, ['Home_' + name for name in oldColNames])))\n",
    "    awayStats = teams_df[teams_df['Home/Away'] == 'Away'].drop(columns = ['Home/Away'])\n",
    "    awayStats = awayStats.rename(columns = dict(zip(oldColNames, ['Away_' + name for name in oldColNames])))\n",
    "\n",
    "    matchStats = pd.merge(homeStats, awayStats, on = ['Game', 'Season', 'Date', 'Round', 'Winner'])\n",
    "    \n",
    "    return matchStats"
   ]
  },
  {
   "cell_type": "code",
   "execution_count": 2,
   "metadata": {},
   "outputs": [],
   "source": [
    "afl_df = processAFLData('afl_matches.csv')"
   ]
  },
  {
   "attachments": {},
   "cell_type": "markdown",
   "metadata": {},
   "source": [
    "Some notes on these features:\n",
    "\n",
    "- All of these features can be calculated before a game is played and therefore can be used to predict the outcome of a given match.\n",
    "- One could get much more granular with the features, for example by considering the number of specific goals and behinds, hte number of possessions, etc. It would be worth considering such features and doing a more detailed exploration of possible features to see whether they result in more accurate models. For now, we keep it simple.\n",
    "- To reduce the number of features, one could use the difference between the home and away team statistics. We did try this in a parallel analysis but found that it lead to poorer results, so we haven't included this in the discussion.\n"
   ]
  },
  {
   "attachments": {},
   "cell_type": "markdown",
   "metadata": {},
   "source": [
    "## Data exploration"
   ]
  },
  {
   "cell_type": "code",
   "execution_count": 3,
   "metadata": {},
   "outputs": [
    {
     "data": {
      "text/plain": [
       "(4463, 47)"
      ]
     },
     "execution_count": 3,
     "metadata": {},
     "output_type": "execute_result"
    }
   ],
   "source": [
    "afl_df.shape"
   ]
  },
  {
   "cell_type": "code",
   "execution_count": 4,
   "metadata": {},
   "outputs": [
    {
     "data": {
      "text/html": [
       "<div>\n",
       "<style scoped>\n",
       "    .dataframe tbody tr th:only-of-type {\n",
       "        vertical-align: middle;\n",
       "    }\n",
       "\n",
       "    .dataframe tbody tr th {\n",
       "        vertical-align: top;\n",
       "    }\n",
       "\n",
       "    .dataframe thead th {\n",
       "        text-align: right;\n",
       "    }\n",
       "</style>\n",
       "<table border=\"1\" class=\"dataframe\">\n",
       "  <thead>\n",
       "    <tr style=\"text-align: right;\">\n",
       "      <th></th>\n",
       "      <th>Game</th>\n",
       "      <th>Season</th>\n",
       "      <th>Date</th>\n",
       "      <th>Round</th>\n",
       "      <th>Home_Team</th>\n",
       "      <th>Home_PointsBy</th>\n",
       "      <th>Winner</th>\n",
       "      <th>Home_SeasonPointsBy</th>\n",
       "      <th>Home_SeasonPointsAgainst</th>\n",
       "      <th>Home_SeasonPerformance</th>\n",
       "      <th>...</th>\n",
       "      <th>Away_Performance_Last_2</th>\n",
       "      <th>Away_PointsBy_Last_3</th>\n",
       "      <th>Away_PointsAgainst_Last_3</th>\n",
       "      <th>Away_Performance_Last_3</th>\n",
       "      <th>Away_PointsBy_Last_4</th>\n",
       "      <th>Away_PointsAgainst_Last_4</th>\n",
       "      <th>Away_Performance_Last_4</th>\n",
       "      <th>Away_PointsBy_Last_5</th>\n",
       "      <th>Away_PointsAgainst_Last_5</th>\n",
       "      <th>Away_Performance_Last_5</th>\n",
       "    </tr>\n",
       "  </thead>\n",
       "  <tbody>\n",
       "    <tr>\n",
       "      <th>0</th>\n",
       "      <td>11728</td>\n",
       "      <td>2000</td>\n",
       "      <td>2000-03-08</td>\n",
       "      <td>R1</td>\n",
       "      <td>Richmond</td>\n",
       "      <td>94</td>\n",
       "      <td>Home</td>\n",
       "      <td>0</td>\n",
       "      <td>0</td>\n",
       "      <td>0</td>\n",
       "      <td>...</td>\n",
       "      <td>NaN</td>\n",
       "      <td>NaN</td>\n",
       "      <td>NaN</td>\n",
       "      <td>NaN</td>\n",
       "      <td>NaN</td>\n",
       "      <td>NaN</td>\n",
       "      <td>NaN</td>\n",
       "      <td>NaN</td>\n",
       "      <td>NaN</td>\n",
       "      <td>NaN</td>\n",
       "    </tr>\n",
       "    <tr>\n",
       "      <th>1</th>\n",
       "      <td>11729</td>\n",
       "      <td>2000</td>\n",
       "      <td>2000-03-09</td>\n",
       "      <td>R1</td>\n",
       "      <td>Essendon</td>\n",
       "      <td>156</td>\n",
       "      <td>Home</td>\n",
       "      <td>0</td>\n",
       "      <td>0</td>\n",
       "      <td>0</td>\n",
       "      <td>...</td>\n",
       "      <td>NaN</td>\n",
       "      <td>NaN</td>\n",
       "      <td>NaN</td>\n",
       "      <td>NaN</td>\n",
       "      <td>NaN</td>\n",
       "      <td>NaN</td>\n",
       "      <td>NaN</td>\n",
       "      <td>NaN</td>\n",
       "      <td>NaN</td>\n",
       "      <td>NaN</td>\n",
       "    </tr>\n",
       "    <tr>\n",
       "      <th>2</th>\n",
       "      <td>11730</td>\n",
       "      <td>2000</td>\n",
       "      <td>2000-03-10</td>\n",
       "      <td>R1</td>\n",
       "      <td>North Melbourne</td>\n",
       "      <td>111</td>\n",
       "      <td>Away</td>\n",
       "      <td>0</td>\n",
       "      <td>0</td>\n",
       "      <td>0</td>\n",
       "      <td>...</td>\n",
       "      <td>NaN</td>\n",
       "      <td>NaN</td>\n",
       "      <td>NaN</td>\n",
       "      <td>NaN</td>\n",
       "      <td>NaN</td>\n",
       "      <td>NaN</td>\n",
       "      <td>NaN</td>\n",
       "      <td>NaN</td>\n",
       "      <td>NaN</td>\n",
       "      <td>NaN</td>\n",
       "    </tr>\n",
       "    <tr>\n",
       "      <th>3</th>\n",
       "      <td>11731</td>\n",
       "      <td>2000</td>\n",
       "      <td>2000-03-11</td>\n",
       "      <td>R1</td>\n",
       "      <td>Adelaide</td>\n",
       "      <td>108</td>\n",
       "      <td>Away</td>\n",
       "      <td>0</td>\n",
       "      <td>0</td>\n",
       "      <td>0</td>\n",
       "      <td>...</td>\n",
       "      <td>NaN</td>\n",
       "      <td>NaN</td>\n",
       "      <td>NaN</td>\n",
       "      <td>NaN</td>\n",
       "      <td>NaN</td>\n",
       "      <td>NaN</td>\n",
       "      <td>NaN</td>\n",
       "      <td>NaN</td>\n",
       "      <td>NaN</td>\n",
       "      <td>NaN</td>\n",
       "    </tr>\n",
       "    <tr>\n",
       "      <th>4</th>\n",
       "      <td>11732</td>\n",
       "      <td>2000</td>\n",
       "      <td>2000-03-11</td>\n",
       "      <td>R1</td>\n",
       "      <td>Fremantle</td>\n",
       "      <td>107</td>\n",
       "      <td>Away</td>\n",
       "      <td>0</td>\n",
       "      <td>0</td>\n",
       "      <td>0</td>\n",
       "      <td>...</td>\n",
       "      <td>NaN</td>\n",
       "      <td>NaN</td>\n",
       "      <td>NaN</td>\n",
       "      <td>NaN</td>\n",
       "      <td>NaN</td>\n",
       "      <td>NaN</td>\n",
       "      <td>NaN</td>\n",
       "      <td>NaN</td>\n",
       "      <td>NaN</td>\n",
       "      <td>NaN</td>\n",
       "    </tr>\n",
       "  </tbody>\n",
       "</table>\n",
       "<p>5 rows × 47 columns</p>\n",
       "</div>"
      ],
      "text/plain": [
       "    Game  Season       Date Round        Home_Team  Home_PointsBy Winner  \\\n",
       "0  11728    2000 2000-03-08    R1         Richmond             94   Home   \n",
       "1  11729    2000 2000-03-09    R1         Essendon            156   Home   \n",
       "2  11730    2000 2000-03-10    R1  North Melbourne            111   Away   \n",
       "3  11731    2000 2000-03-11    R1         Adelaide            108   Away   \n",
       "4  11732    2000 2000-03-11    R1        Fremantle            107   Away   \n",
       "\n",
       "   Home_SeasonPointsBy  Home_SeasonPointsAgainst  Home_SeasonPerformance  ...  \\\n",
       "0                    0                         0                       0  ...   \n",
       "1                    0                         0                       0  ...   \n",
       "2                    0                         0                       0  ...   \n",
       "3                    0                         0                       0  ...   \n",
       "4                    0                         0                       0  ...   \n",
       "\n",
       "   Away_Performance_Last_2  Away_PointsBy_Last_3  Away_PointsAgainst_Last_3  \\\n",
       "0                      NaN                   NaN                        NaN   \n",
       "1                      NaN                   NaN                        NaN   \n",
       "2                      NaN                   NaN                        NaN   \n",
       "3                      NaN                   NaN                        NaN   \n",
       "4                      NaN                   NaN                        NaN   \n",
       "\n",
       "   Away_Performance_Last_3  Away_PointsBy_Last_4  Away_PointsAgainst_Last_4  \\\n",
       "0                      NaN                   NaN                        NaN   \n",
       "1                      NaN                   NaN                        NaN   \n",
       "2                      NaN                   NaN                        NaN   \n",
       "3                      NaN                   NaN                        NaN   \n",
       "4                      NaN                   NaN                        NaN   \n",
       "\n",
       "   Away_Performance_Last_4  Away_PointsBy_Last_5  Away_PointsAgainst_Last_5  \\\n",
       "0                      NaN                   NaN                        NaN   \n",
       "1                      NaN                   NaN                        NaN   \n",
       "2                      NaN                   NaN                        NaN   \n",
       "3                      NaN                   NaN                        NaN   \n",
       "4                      NaN                   NaN                        NaN   \n",
       "\n",
       "   Away_Performance_Last_5  \n",
       "0                      NaN  \n",
       "1                      NaN  \n",
       "2                      NaN  \n",
       "3                      NaN  \n",
       "4                      NaN  \n",
       "\n",
       "[5 rows x 47 columns]"
      ]
     },
     "execution_count": 4,
     "metadata": {},
     "output_type": "execute_result"
    }
   ],
   "source": [
    "afl_df.head()"
   ]
  },
  {
   "cell_type": "code",
   "execution_count": 5,
   "metadata": {},
   "outputs": [
    {
     "name": "stdout",
     "output_type": "stream",
     "text": [
      "<class 'pandas.core.frame.DataFrame'>\n",
      "Int64Index: 4463 entries, 0 to 4462\n",
      "Data columns (total 47 columns):\n",
      " #   Column                     Non-Null Count  Dtype         \n",
      "---  ------                     --------------  -----         \n",
      " 0   Game                       4463 non-null   int64         \n",
      " 1   Season                     4463 non-null   int64         \n",
      " 2   Date                       4463 non-null   datetime64[ns]\n",
      " 3   Round                      4463 non-null   object        \n",
      " 4   Home_Team                  4463 non-null   object        \n",
      " 5   Home_PointsBy              4463 non-null   int64         \n",
      " 6   Winner                     4463 non-null   object        \n",
      " 7   Home_SeasonPointsBy        4463 non-null   int64         \n",
      " 8   Home_SeasonPointsAgainst   4463 non-null   int64         \n",
      " 9   Home_SeasonPerformance     4463 non-null   int32         \n",
      " 10  Home_Ranking               4463 non-null   float64       \n",
      " 11  Home_PointsBy_Last_1       4453 non-null   float64       \n",
      " 12  Home_PointsAgainst_Last_1  4453 non-null   float64       \n",
      " 13  Home_Performance_Last_1    4453 non-null   float64       \n",
      " 14  Home_PointsBy_Last_2       4453 non-null   float64       \n",
      " 15  Home_PointsAgainst_Last_2  4453 non-null   float64       \n",
      " 16  Home_Performance_Last_2    4453 non-null   float64       \n",
      " 17  Home_PointsBy_Last_3       4453 non-null   float64       \n",
      " 18  Home_PointsAgainst_Last_3  4453 non-null   float64       \n",
      " 19  Home_Performance_Last_3    4453 non-null   float64       \n",
      " 20  Home_PointsBy_Last_4       4453 non-null   float64       \n",
      " 21  Home_PointsAgainst_Last_4  4453 non-null   float64       \n",
      " 22  Home_Performance_Last_4    4453 non-null   float64       \n",
      " 23  Home_PointsBy_Last_5       4453 non-null   float64       \n",
      " 24  Home_PointsAgainst_Last_5  4453 non-null   float64       \n",
      " 25  Home_Performance_Last_5    4453 non-null   float64       \n",
      " 26  Away_Team                  4463 non-null   object        \n",
      " 27  Away_PointsBy              4463 non-null   int64         \n",
      " 28  Away_SeasonPointsBy        4463 non-null   int64         \n",
      " 29  Away_SeasonPointsAgainst   4463 non-null   int64         \n",
      " 30  Away_SeasonPerformance     4463 non-null   int32         \n",
      " 31  Away_Ranking               4463 non-null   float64       \n",
      " 32  Away_PointsBy_Last_1       4455 non-null   float64       \n",
      " 33  Away_PointsAgainst_Last_1  4455 non-null   float64       \n",
      " 34  Away_Performance_Last_1    4455 non-null   float64       \n",
      " 35  Away_PointsBy_Last_2       4455 non-null   float64       \n",
      " 36  Away_PointsAgainst_Last_2  4455 non-null   float64       \n",
      " 37  Away_Performance_Last_2    4455 non-null   float64       \n",
      " 38  Away_PointsBy_Last_3       4455 non-null   float64       \n",
      " 39  Away_PointsAgainst_Last_3  4455 non-null   float64       \n",
      " 40  Away_Performance_Last_3    4455 non-null   float64       \n",
      " 41  Away_PointsBy_Last_4       4455 non-null   float64       \n",
      " 42  Away_PointsAgainst_Last_4  4455 non-null   float64       \n",
      " 43  Away_Performance_Last_4    4455 non-null   float64       \n",
      " 44  Away_PointsBy_Last_5       4455 non-null   float64       \n",
      " 45  Away_PointsAgainst_Last_5  4455 non-null   float64       \n",
      " 46  Away_Performance_Last_5    4455 non-null   float64       \n",
      "dtypes: datetime64[ns](1), float64(32), int32(2), int64(8), object(4)\n",
      "memory usage: 1.6+ MB\n"
     ]
    }
   ],
   "source": [
    "afl_df.info()"
   ]
  },
  {
   "attachments": {},
   "cell_type": "markdown",
   "metadata": {},
   "source": [
    "There are 8 missing values in each of the 'rolling average' statistics, because these can't be calculated until after a team has played thier first match.\n",
    "\n",
    "There are two additional missing values: this is because two new teams were added to the AFL.\n",
    "Gold Coast Suns were added in 2011 and Greater Western Sydney was added in 2012."
   ]
  },
  {
   "cell_type": "code",
   "execution_count": 6,
   "metadata": {},
   "outputs": [
    {
     "data": {
      "text/html": [
       "<div>\n",
       "<style scoped>\n",
       "    .dataframe tbody tr th:only-of-type {\n",
       "        vertical-align: middle;\n",
       "    }\n",
       "\n",
       "    .dataframe tbody tr th {\n",
       "        vertical-align: top;\n",
       "    }\n",
       "\n",
       "    .dataframe thead th {\n",
       "        text-align: right;\n",
       "    }\n",
       "</style>\n",
       "<table border=\"1\" class=\"dataframe\">\n",
       "  <thead>\n",
       "    <tr style=\"text-align: right;\">\n",
       "      <th></th>\n",
       "      <th>Game</th>\n",
       "      <th>Season</th>\n",
       "      <th>Home_PointsBy</th>\n",
       "      <th>Home_SeasonPointsBy</th>\n",
       "      <th>Home_SeasonPointsAgainst</th>\n",
       "      <th>Home_SeasonPerformance</th>\n",
       "      <th>Home_Ranking</th>\n",
       "      <th>Home_PointsBy_Last_1</th>\n",
       "      <th>Home_PointsAgainst_Last_1</th>\n",
       "      <th>Home_Performance_Last_1</th>\n",
       "      <th>...</th>\n",
       "      <th>Away_Performance_Last_2</th>\n",
       "      <th>Away_PointsBy_Last_3</th>\n",
       "      <th>Away_PointsAgainst_Last_3</th>\n",
       "      <th>Away_Performance_Last_3</th>\n",
       "      <th>Away_PointsBy_Last_4</th>\n",
       "      <th>Away_PointsAgainst_Last_4</th>\n",
       "      <th>Away_Performance_Last_4</th>\n",
       "      <th>Away_PointsBy_Last_5</th>\n",
       "      <th>Away_PointsAgainst_Last_5</th>\n",
       "      <th>Away_Performance_Last_5</th>\n",
       "    </tr>\n",
       "  </thead>\n",
       "  <tbody>\n",
       "    <tr>\n",
       "      <th>count</th>\n",
       "      <td>4463.000000</td>\n",
       "      <td>4463.000000</td>\n",
       "      <td>4463.000000</td>\n",
       "      <td>4463.000000</td>\n",
       "      <td>4463.000000</td>\n",
       "      <td>4463.000000</td>\n",
       "      <td>4463.000000</td>\n",
       "      <td>4453.000000</td>\n",
       "      <td>4453.000000</td>\n",
       "      <td>4453.000000</td>\n",
       "      <td>...</td>\n",
       "      <td>4455.000000</td>\n",
       "      <td>4455.000000</td>\n",
       "      <td>4455.000000</td>\n",
       "      <td>4455.000000</td>\n",
       "      <td>4455.000000</td>\n",
       "      <td>4455.000000</td>\n",
       "      <td>4455.000000</td>\n",
       "      <td>4455.000000</td>\n",
       "      <td>4455.000000</td>\n",
       "      <td>4455.000000</td>\n",
       "    </tr>\n",
       "    <tr>\n",
       "      <th>mean</th>\n",
       "      <td>13959.000000</td>\n",
       "      <td>2011.233475</td>\n",
       "      <td>93.222720</td>\n",
       "      <td>999.803719</td>\n",
       "      <td>978.481067</td>\n",
       "      <td>11.315259</td>\n",
       "      <td>4.042796</td>\n",
       "      <td>87.402425</td>\n",
       "      <td>91.265888</td>\n",
       "      <td>0.918033</td>\n",
       "      <td>...</td>\n",
       "      <td>1.018631</td>\n",
       "      <td>90.238683</td>\n",
       "      <td>88.911635</td>\n",
       "      <td>1.019005</td>\n",
       "      <td>89.995155</td>\n",
       "      <td>89.288739</td>\n",
       "      <td>1.005761</td>\n",
       "      <td>89.982103</td>\n",
       "      <td>89.348784</td>\n",
       "      <td>1.004280</td>\n",
       "    </tr>\n",
       "    <tr>\n",
       "      <th>std</th>\n",
       "      <td>1288.501455</td>\n",
       "      <td>6.601426</td>\n",
       "      <td>28.158595</td>\n",
       "      <td>648.015951</td>\n",
       "      <td>606.278774</td>\n",
       "      <td>9.247668</td>\n",
       "      <td>2.503105</td>\n",
       "      <td>28.057759</td>\n",
       "      <td>28.348473</td>\n",
       "      <td>0.996747</td>\n",
       "      <td>...</td>\n",
       "      <td>0.740977</td>\n",
       "      <td>19.103399</td>\n",
       "      <td>19.720215</td>\n",
       "      <td>0.636606</td>\n",
       "      <td>17.550481</td>\n",
       "      <td>18.365747</td>\n",
       "      <td>0.574723</td>\n",
       "      <td>16.556606</td>\n",
       "      <td>17.483370</td>\n",
       "      <td>0.533337</td>\n",
       "    </tr>\n",
       "    <tr>\n",
       "      <th>min</th>\n",
       "      <td>11728.000000</td>\n",
       "      <td>2000.000000</td>\n",
       "      <td>16.000000</td>\n",
       "      <td>0.000000</td>\n",
       "      <td>0.000000</td>\n",
       "      <td>0.000000</td>\n",
       "      <td>1.000000</td>\n",
       "      <td>13.000000</td>\n",
       "      <td>19.000000</td>\n",
       "      <td>0.000000</td>\n",
       "      <td>...</td>\n",
       "      <td>0.000000</td>\n",
       "      <td>36.333333</td>\n",
       "      <td>31.000000</td>\n",
       "      <td>0.000000</td>\n",
       "      <td>36.000000</td>\n",
       "      <td>36.500000</td>\n",
       "      <td>0.000000</td>\n",
       "      <td>37.000000</td>\n",
       "      <td>40.200000</td>\n",
       "      <td>0.000000</td>\n",
       "    </tr>\n",
       "    <tr>\n",
       "      <th>25%</th>\n",
       "      <td>12843.500000</td>\n",
       "      <td>2006.000000</td>\n",
       "      <td>73.000000</td>\n",
       "      <td>458.500000</td>\n",
       "      <td>463.500000</td>\n",
       "      <td>4.000000</td>\n",
       "      <td>2.000000</td>\n",
       "      <td>67.000000</td>\n",
       "      <td>71.000000</td>\n",
       "      <td>0.000000</td>\n",
       "      <td>...</td>\n",
       "      <td>0.000000</td>\n",
       "      <td>77.333333</td>\n",
       "      <td>75.000000</td>\n",
       "      <td>0.666667</td>\n",
       "      <td>78.250000</td>\n",
       "      <td>76.500000</td>\n",
       "      <td>0.500000</td>\n",
       "      <td>79.000000</td>\n",
       "      <td>77.200000</td>\n",
       "      <td>0.800000</td>\n",
       "    </tr>\n",
       "    <tr>\n",
       "      <th>50%</th>\n",
       "      <td>13959.000000</td>\n",
       "      <td>2011.000000</td>\n",
       "      <td>92.000000</td>\n",
       "      <td>955.000000</td>\n",
       "      <td>955.000000</td>\n",
       "      <td>10.000000</td>\n",
       "      <td>4.000000</td>\n",
       "      <td>85.000000</td>\n",
       "      <td>89.000000</td>\n",
       "      <td>0.000000</td>\n",
       "      <td>...</td>\n",
       "      <td>1.000000</td>\n",
       "      <td>89.666667</td>\n",
       "      <td>88.000000</td>\n",
       "      <td>1.333333</td>\n",
       "      <td>89.250000</td>\n",
       "      <td>88.250000</td>\n",
       "      <td>1.000000</td>\n",
       "      <td>89.600000</td>\n",
       "      <td>88.200000</td>\n",
       "      <td>1.200000</td>\n",
       "    </tr>\n",
       "    <tr>\n",
       "      <th>75%</th>\n",
       "      <td>15074.500000</td>\n",
       "      <td>2017.000000</td>\n",
       "      <td>111.000000</td>\n",
       "      <td>1480.000000</td>\n",
       "      <td>1467.000000</td>\n",
       "      <td>18.000000</td>\n",
       "      <td>6.000000</td>\n",
       "      <td>105.000000</td>\n",
       "      <td>110.000000</td>\n",
       "      <td>2.000000</td>\n",
       "      <td>...</td>\n",
       "      <td>2.000000</td>\n",
       "      <td>102.333333</td>\n",
       "      <td>101.000000</td>\n",
       "      <td>1.333333</td>\n",
       "      <td>101.000000</td>\n",
       "      <td>100.500000</td>\n",
       "      <td>1.500000</td>\n",
       "      <td>100.800000</td>\n",
       "      <td>100.400000</td>\n",
       "      <td>1.200000</td>\n",
       "    </tr>\n",
       "    <tr>\n",
       "      <th>max</th>\n",
       "      <td>16190.000000</td>\n",
       "      <td>2022.000000</td>\n",
       "      <td>233.000000</td>\n",
       "      <td>3139.000000</td>\n",
       "      <td>2681.000000</td>\n",
       "      <td>46.000000</td>\n",
       "      <td>13.000000</td>\n",
       "      <td>233.000000</td>\n",
       "      <td>198.000000</td>\n",
       "      <td>2.000000</td>\n",
       "      <td>...</td>\n",
       "      <td>2.000000</td>\n",
       "      <td>178.000000</td>\n",
       "      <td>171.000000</td>\n",
       "      <td>2.000000</td>\n",
       "      <td>166.750000</td>\n",
       "      <td>171.000000</td>\n",
       "      <td>2.000000</td>\n",
       "      <td>153.000000</td>\n",
       "      <td>171.000000</td>\n",
       "      <td>2.000000</td>\n",
       "    </tr>\n",
       "  </tbody>\n",
       "</table>\n",
       "<p>8 rows × 42 columns</p>\n",
       "</div>"
      ],
      "text/plain": [
       "               Game       Season  Home_PointsBy  Home_SeasonPointsBy  \\\n",
       "count   4463.000000  4463.000000    4463.000000          4463.000000   \n",
       "mean   13959.000000  2011.233475      93.222720           999.803719   \n",
       "std     1288.501455     6.601426      28.158595           648.015951   \n",
       "min    11728.000000  2000.000000      16.000000             0.000000   \n",
       "25%    12843.500000  2006.000000      73.000000           458.500000   \n",
       "50%    13959.000000  2011.000000      92.000000           955.000000   \n",
       "75%    15074.500000  2017.000000     111.000000          1480.000000   \n",
       "max    16190.000000  2022.000000     233.000000          3139.000000   \n",
       "\n",
       "       Home_SeasonPointsAgainst  Home_SeasonPerformance  Home_Ranking  \\\n",
       "count               4463.000000             4463.000000   4463.000000   \n",
       "mean                 978.481067               11.315259      4.042796   \n",
       "std                  606.278774                9.247668      2.503105   \n",
       "min                    0.000000                0.000000      1.000000   \n",
       "25%                  463.500000                4.000000      2.000000   \n",
       "50%                  955.000000               10.000000      4.000000   \n",
       "75%                 1467.000000               18.000000      6.000000   \n",
       "max                 2681.000000               46.000000     13.000000   \n",
       "\n",
       "       Home_PointsBy_Last_1  Home_PointsAgainst_Last_1  \\\n",
       "count           4453.000000                4453.000000   \n",
       "mean              87.402425                  91.265888   \n",
       "std               28.057759                  28.348473   \n",
       "min               13.000000                  19.000000   \n",
       "25%               67.000000                  71.000000   \n",
       "50%               85.000000                  89.000000   \n",
       "75%              105.000000                 110.000000   \n",
       "max              233.000000                 198.000000   \n",
       "\n",
       "       Home_Performance_Last_1  ...  Away_Performance_Last_2  \\\n",
       "count              4453.000000  ...              4455.000000   \n",
       "mean                  0.918033  ...                 1.018631   \n",
       "std                   0.996747  ...                 0.740977   \n",
       "min                   0.000000  ...                 0.000000   \n",
       "25%                   0.000000  ...                 0.000000   \n",
       "50%                   0.000000  ...                 1.000000   \n",
       "75%                   2.000000  ...                 2.000000   \n",
       "max                   2.000000  ...                 2.000000   \n",
       "\n",
       "       Away_PointsBy_Last_3  Away_PointsAgainst_Last_3  \\\n",
       "count           4455.000000                4455.000000   \n",
       "mean              90.238683                  88.911635   \n",
       "std               19.103399                  19.720215   \n",
       "min               36.333333                  31.000000   \n",
       "25%               77.333333                  75.000000   \n",
       "50%               89.666667                  88.000000   \n",
       "75%              102.333333                 101.000000   \n",
       "max              178.000000                 171.000000   \n",
       "\n",
       "       Away_Performance_Last_3  Away_PointsBy_Last_4  \\\n",
       "count              4455.000000           4455.000000   \n",
       "mean                  1.019005             89.995155   \n",
       "std                   0.636606             17.550481   \n",
       "min                   0.000000             36.000000   \n",
       "25%                   0.666667             78.250000   \n",
       "50%                   1.333333             89.250000   \n",
       "75%                   1.333333            101.000000   \n",
       "max                   2.000000            166.750000   \n",
       "\n",
       "       Away_PointsAgainst_Last_4  Away_Performance_Last_4  \\\n",
       "count                4455.000000              4455.000000   \n",
       "mean                   89.288739                 1.005761   \n",
       "std                    18.365747                 0.574723   \n",
       "min                    36.500000                 0.000000   \n",
       "25%                    76.500000                 0.500000   \n",
       "50%                    88.250000                 1.000000   \n",
       "75%                   100.500000                 1.500000   \n",
       "max                   171.000000                 2.000000   \n",
       "\n",
       "       Away_PointsBy_Last_5  Away_PointsAgainst_Last_5  \\\n",
       "count           4455.000000                4455.000000   \n",
       "mean              89.982103                  89.348784   \n",
       "std               16.556606                  17.483370   \n",
       "min               37.000000                  40.200000   \n",
       "25%               79.000000                  77.200000   \n",
       "50%               89.600000                  88.200000   \n",
       "75%              100.800000                 100.400000   \n",
       "max              153.000000                 171.000000   \n",
       "\n",
       "       Away_Performance_Last_5  \n",
       "count              4455.000000  \n",
       "mean                  1.004280  \n",
       "std                   0.533337  \n",
       "min                   0.000000  \n",
       "25%                   0.800000  \n",
       "50%                   1.200000  \n",
       "75%                   1.200000  \n",
       "max                   2.000000  \n",
       "\n",
       "[8 rows x 42 columns]"
      ]
     },
     "execution_count": 6,
     "metadata": {},
     "output_type": "execute_result"
    }
   ],
   "source": [
    "afl_df.describe()"
   ]
  },
  {
   "cell_type": "code",
   "execution_count": 7,
   "metadata": {},
   "outputs": [
    {
     "data": {
      "image/png": "[encoded data removed]",
      "text/plain": [
       "<Figure size 2000x1500 with 49 Axes>"
      ]
     },
     "metadata": {},
     "output_type": "display_data"
    }
   ],
   "source": [
    "import matplotlib.pyplot as plt\n",
    "afl_df.hist(bins=50, figsize=(20,15))\n",
    "plt.show()"
   ]
  },
  {
   "attachments": {},
   "cell_type": "markdown",
   "metadata": {},
   "source": [
    "Most variables are normally distributed. The exceptions are the ranking and the season performance.\n",
    "\n",
    "The seasonal points have higher values, because it's a cumulative sum and no average is taken.\n",
    "\n",
    "Rankings are more likely to be lower, because it's a dense ranking. Earlier in the season most teams will have similar rankings; only later in the season do we have higher rankings.\n",
    "\n",
    "In the Season graph we see the effect of COVID-19; less games were played in 2020. \n",
    "You can also see the addition of new teams in 2011 and 2012."
   ]
  },
  {
   "attachments": {},
   "cell_type": "markdown",
   "metadata": {},
   "source": [
    "## Create training and test set"
   ]
  },
  {
   "attachments": {},
   "cell_type": "markdown",
   "metadata": {},
   "source": [
    "We use matches played before 2019 as the training set."
   ]
  },
  {
   "cell_type": "code",
   "execution_count": 8,
   "metadata": {},
   "outputs": [],
   "source": [
    "# Create a training and test set.\n",
    "# Use games played before 2019 as the training set.\n",
    "train_set = afl_df[afl_df['Season'] < 2019]\n",
    "test_set = afl_df[afl_df['Season'] >= 2019]"
   ]
  },
  {
   "attachments": {},
   "cell_type": "markdown",
   "metadata": {},
   "source": [
    "## Data preparation"
   ]
  },
  {
   "cell_type": "code",
   "execution_count": 9,
   "metadata": {},
   "outputs": [],
   "source": [
    "# Want out sklearn classes to return pandas dataframes, not numpy arrays\n",
    "from sklearn import set_config\n",
    "set_config(transform_output = \"pandas\")"
   ]
  },
  {
   "attachments": {},
   "cell_type": "markdown",
   "metadata": {},
   "source": [
    "We will create a data transformer to prepare our data. \n",
    "\n",
    "To prepare the data, we simply remove the columns that we don't want to use in our training (such as the ones we can't know before a match is played).\n",
    "\n",
    "There are not many NA values, so we simply drop them."
   ]
  },
  {
   "cell_type": "code",
   "execution_count": 10,
   "metadata": {},
   "outputs": [],
   "source": [
    "from sklearn.base import BaseEstimator, TransformerMixin\n",
    "\n",
    "game_ix, season_ix, date_ix, round_ix, hometeam_ix = 0, 1, 2, 3, 4 \n",
    "homepoints_ix, winner_ix, awayteam_ix, away_points_ix = 5, 6, 26, 27\n",
    "cols_to_drop = [game_ix, season_ix, date_ix, round_ix, hometeam_ix, winner_ix, awayteam_ix, homepoints_ix, away_points_ix]\n",
    "\n",
    "class AFLDataPrepper(BaseEstimator, TransformerMixin):\n",
    "    def __init__(self, dropNA = True):\n",
    "        self.dropNA = dropNA\n",
    "\n",
    "    def fit(self, X, y=None):\n",
    "        return self\n",
    "\n",
    "    def transform(self, X):\n",
    "\n",
    "        # Only want to use features that we can know before the game is played\n",
    "        X = X.drop(X.columns[cols_to_drop], axis=1)\n",
    "\n",
    "        # Remove rows with missing values\n",
    "        if self.dropNA:\n",
    "            X = X.dropna()\n",
    "\n",
    "        return X    "
   ]
  },
  {
   "cell_type": "code",
   "execution_count": 11,
   "metadata": {},
   "outputs": [],
   "source": [
    "from sklearn.pipeline import Pipeline\n",
    "from sklearn.preprocessing import StandardScaler\n",
    "\n",
    "afl_pipeline = Pipeline([\n",
    "    ('afl_prepper', AFLDataPrepper()),\n",
    "    ('std_scaler', StandardScaler())\n",
    "])\n"
   ]
  },
  {
   "cell_type": "code",
   "execution_count": 12,
   "metadata": {},
   "outputs": [],
   "source": [
    "def get_labels(train_set, drop_na = True):\n",
    "    if drop_na:\n",
    "        return train_set.dropna()[\"Winner\"]\n",
    "    return train_set[\"Winner\"]"
   ]
  },
  {
   "cell_type": "code",
   "execution_count": 13,
   "metadata": {},
   "outputs": [],
   "source": [
    "# Transform the data and get the labels\n",
    "afl_prepared = afl_pipeline.fit_transform(train_set.copy())\n",
    "train_labels = get_labels(train_set)"
   ]
  },
  {
   "attachments": {},
   "cell_type": "markdown",
   "metadata": {},
   "source": [
    "## Selecting and training a model"
   ]
  },
  {
   "cell_type": "code",
   "execution_count": 14,
   "metadata": {},
   "outputs": [],
   "source": [
    "from sklearn.model_selection import cross_val_score\n",
    "import numpy as np\n",
    "\n",
    "def evaluate_model(model, train, labels, k=3):\n",
    "    accuracy = cross_val_score(model, train, labels, cv=k, scoring = \"accuracy\")\n",
    "    print(\"Accuracy = {:0.2f}%\".format(np.mean(accuracy)*100))\n"
   ]
  },
  {
   "attachments": {},
   "cell_type": "markdown",
   "metadata": {},
   "source": [
    "#### Random Forest Classifier"
   ]
  },
  {
   "cell_type": "code",
   "execution_count": 15,
   "metadata": {},
   "outputs": [
    {
     "data": {
      "text/html": [
       "<style>#sk-container-id-1 {color: black;background-color: white;}#sk-container-id-1 pre{padding: 0;}#sk-container-id-1 div.sk-toggleable {background-color: white;}#sk-container-id-1 label.sk-toggleable__label {cursor: pointer;display: block;width: 100%;margin-bottom: 0;padding: 0.3em;box-sizing: border-box;text-align: center;}#sk-container-id-1 label.sk-toggleable__label-arrow:before {content: \"▸\";float: left;margin-right: 0.25em;color: #696969;}#sk-container-id-1 label.sk-toggleable__label-arrow:hover:before {color: black;}#sk-container-id-1 div.sk-estimator:hover label.sk-toggleable__label-arrow:before {color: black;}#sk-container-id-1 div.sk-toggleable__content {max-height: 0;max-width: 0;overflow: hidden;text-align: left;background-color: #f0f8ff;}#sk-container-id-1 div.sk-toggleable__content pre {margin: 0.2em;color: black;border-radius: 0.25em;background-color: #f0f8ff;}#sk-container-id-1 input.sk-toggleable__control:checked~div.sk-toggleable__content {max-height: 200px;max-width: 100%;overflow: auto;}#sk-container-id-1 input.sk-toggleable__control:checked~label.sk-toggleable__label-arrow:before {content: \"▾\";}#sk-container-id-1 div.sk-estimator input.sk-toggleable__control:checked~label.sk-toggleable__label {background-color: #d4ebff;}#sk-container-id-1 div.sk-label input.sk-toggleable__control:checked~label.sk-toggleable__label {background-color: #d4ebff;}#sk-container-id-1 input.sk-hidden--visually {border: 0;clip: rect(1px 1px 1px 1px);clip: rect(1px, 1px, 1px, 1px);height: 1px;margin: -1px;overflow: hidden;padding: 0;position: absolute;width: 1px;}#sk-container-id-1 div.sk-estimator {font-family: monospace;background-color: #f0f8ff;border: 1px dotted black;border-radius: 0.25em;box-sizing: border-box;margin-bottom: 0.5em;}#sk-container-id-1 div.sk-estimator:hover {background-color: #d4ebff;}#sk-container-id-1 div.sk-parallel-item::after {content: \"\";width: 100%;border-bottom: 1px solid gray;flex-grow: 1;}#sk-container-id-1 div.sk-label:hover label.sk-toggleable__label {background-color: #d4ebff;}#sk-container-id-1 div.sk-serial::before {content: \"\";position: absolute;border-left: 1px solid gray;box-sizing: border-box;top: 0;bottom: 0;left: 50%;z-index: 0;}#sk-container-id-1 div.sk-serial {display: flex;flex-direction: column;align-items: center;background-color: white;padding-right: 0.2em;padding-left: 0.2em;position: relative;}#sk-container-id-1 div.sk-item {position: relative;z-index: 1;}#sk-container-id-1 div.sk-parallel {display: flex;align-items: stretch;justify-content: center;background-color: white;position: relative;}#sk-container-id-1 div.sk-item::before, #sk-container-id-1 div.sk-parallel-item::before {content: \"\";position: absolute;border-left: 1px solid gray;box-sizing: border-box;top: 0;bottom: 0;left: 50%;z-index: -1;}#sk-container-id-1 div.sk-parallel-item {display: flex;flex-direction: column;z-index: 1;position: relative;background-color: white;}#sk-container-id-1 div.sk-parallel-item:first-child::after {align-self: flex-end;width: 50%;}#sk-container-id-1 div.sk-parallel-item:last-child::after {align-self: flex-start;width: 50%;}#sk-container-id-1 div.sk-parallel-item:only-child::after {width: 0;}#sk-container-id-1 div.sk-dashed-wrapped {border: 1px dashed gray;margin: 0 0.4em 0.5em 0.4em;box-sizing: border-box;padding-bottom: 0.4em;background-color: white;}#sk-container-id-1 div.sk-label label {font-family: monospace;font-weight: bold;display: inline-block;line-height: 1.2em;}#sk-container-id-1 div.sk-label-container {text-align: center;}#sk-container-id-1 div.sk-container {/* jupyter's `normalize.less` sets `[hidden] { display: none; }` but bootstrap.min.css set `[hidden] { display: none !important; }` so we also need the `!important` here to be able to override the default hidden behavior on the sphinx rendered scikit-learn.org. See: https://github.com/scikit-learn/scikit-learn/issues/21755 */display: inline-block !important;position: relative;}#sk-container-id-1 div.sk-text-repr-fallback {display: none;}</style><div id=\"sk-container-id-1\" class=\"sk-top-container\"><div class=\"sk-text-repr-fallback\"><pre>RandomForestClassifier()</pre><b>In a Jupyter environment, please rerun this cell to show the HTML representation or trust the notebook. <br />On GitHub, the HTML representation is unable to render, please try loading this page with nbviewer.org.</b></div><div class=\"sk-container\" hidden><div class=\"sk-item\"><div class=\"sk-estimator sk-toggleable\"><input class=\"sk-toggleable__control sk-hidden--visually\" id=\"sk-estimator-id-1\" type=\"checkbox\" checked><label for=\"sk-estimator-id-1\" class=\"sk-toggleable__label sk-toggleable__label-arrow\">RandomForestClassifier</label><div class=\"sk-toggleable__content\"><pre>RandomForestClassifier()</pre></div></div></div></div></div>"
      ],
      "text/plain": [
       "RandomForestClassifier()"
      ]
     },
     "execution_count": 15,
     "metadata": {},
     "output_type": "execute_result"
    }
   ],
   "source": [
    "from sklearn.ensemble import RandomForestClassifier\n",
    "afl_rf = RandomForestClassifier()\n",
    "afl_rf.fit(afl_prepared, train_labels)"
   ]
  },
  {
   "cell_type": "code",
   "execution_count": 16,
   "metadata": {},
   "outputs": [
    {
     "name": "stdout",
     "output_type": "stream",
     "text": [
      "Accuracy = 63.68%\n"
     ]
    }
   ],
   "source": [
    "evaluate_model(afl_rf, afl_prepared, train_labels)"
   ]
  },
  {
   "cell_type": "code",
   "execution_count": 19,
   "metadata": {},
   "outputs": [],
   "source": [
    "# Fine tune the parameters with randomised grid search.\n",
    "from sklearn.model_selection import RandomizedSearchCV"
   ]
  },
  {
   "cell_type": "code",
   "execution_count": 20,
   "metadata": {},
   "outputs": [
    {
     "data": {
      "text/html": [
       "<style>#sk-container-id-2 {color: black;background-color: white;}#sk-container-id-2 pre{padding: 0;}#sk-container-id-2 div.sk-toggleable {background-color: white;}#sk-container-id-2 label.sk-toggleable__label {cursor: pointer;display: block;width: 100%;margin-bottom: 0;padding: 0.3em;box-sizing: border-box;text-align: center;}#sk-container-id-2 label.sk-toggleable__label-arrow:before {content: \"▸\";float: left;margin-right: 0.25em;color: #696969;}#sk-container-id-2 label.sk-toggleable__label-arrow:hover:before {color: black;}#sk-container-id-2 div.sk-estimator:hover label.sk-toggleable__label-arrow:before {color: black;}#sk-container-id-2 div.sk-toggleable__content {max-height: 0;max-width: 0;overflow: hidden;text-align: left;background-color: #f0f8ff;}#sk-container-id-2 div.sk-toggleable__content pre {margin: 0.2em;color: black;border-radius: 0.25em;background-color: #f0f8ff;}#sk-container-id-2 input.sk-toggleable__control:checked~div.sk-toggleable__content {max-height: 200px;max-width: 100%;overflow: auto;}#sk-container-id-2 input.sk-toggleable__control:checked~label.sk-toggleable__label-arrow:before {content: \"▾\";}#sk-container-id-2 div.sk-estimator input.sk-toggleable__control:checked~label.sk-toggleable__label {background-color: #d4ebff;}#sk-container-id-2 div.sk-label input.sk-toggleable__control:checked~label.sk-toggleable__label {background-color: #d4ebff;}#sk-container-id-2 input.sk-hidden--visually {border: 0;clip: rect(1px 1px 1px 1px);clip: rect(1px, 1px, 1px, 1px);height: 1px;margin: -1px;overflow: hidden;padding: 0;position: absolute;width: 1px;}#sk-container-id-2 div.sk-estimator {font-family: monospace;background-color: #f0f8ff;border: 1px dotted black;border-radius: 0.25em;box-sizing: border-box;margin-bottom: 0.5em;}#sk-container-id-2 div.sk-estimator:hover {background-color: #d4ebff;}#sk-container-id-2 div.sk-parallel-item::after {content: \"\";width: 100%;border-bottom: 1px solid gray;flex-grow: 1;}#sk-container-id-2 div.sk-label:hover label.sk-toggleable__label {background-color: #d4ebff;}#sk-container-id-2 div.sk-serial::before {content: \"\";position: absolute;border-left: 1px solid gray;box-sizing: border-box;top: 0;bottom: 0;left: 50%;z-index: 0;}#sk-container-id-2 div.sk-serial {display: flex;flex-direction: column;align-items: center;background-color: white;padding-right: 0.2em;padding-left: 0.2em;position: relative;}#sk-container-id-2 div.sk-item {position: relative;z-index: 1;}#sk-container-id-2 div.sk-parallel {display: flex;align-items: stretch;justify-content: center;background-color: white;position: relative;}#sk-container-id-2 div.sk-item::before, #sk-container-id-2 div.sk-parallel-item::before {content: \"\";position: absolute;border-left: 1px solid gray;box-sizing: border-box;top: 0;bottom: 0;left: 50%;z-index: -1;}#sk-container-id-2 div.sk-parallel-item {display: flex;flex-direction: column;z-index: 1;position: relative;background-color: white;}#sk-container-id-2 div.sk-parallel-item:first-child::after {align-self: flex-end;width: 50%;}#sk-container-id-2 div.sk-parallel-item:last-child::after {align-self: flex-start;width: 50%;}#sk-container-id-2 div.sk-parallel-item:only-child::after {width: 0;}#sk-container-id-2 div.sk-dashed-wrapped {border: 1px dashed gray;margin: 0 0.4em 0.5em 0.4em;box-sizing: border-box;padding-bottom: 0.4em;background-color: white;}#sk-container-id-2 div.sk-label label {font-family: monospace;font-weight: bold;display: inline-block;line-height: 1.2em;}#sk-container-id-2 div.sk-label-container {text-align: center;}#sk-container-id-2 div.sk-container {/* jupyter's `normalize.less` sets `[hidden] { display: none; }` but bootstrap.min.css set `[hidden] { display: none !important; }` so we also need the `!important` here to be able to override the default hidden behavior on the sphinx rendered scikit-learn.org. See: https://github.com/scikit-learn/scikit-learn/issues/21755 */display: inline-block !important;position: relative;}#sk-container-id-2 div.sk-text-repr-fallback {display: none;}</style><div id=\"sk-container-id-2\" class=\"sk-top-container\"><div class=\"sk-text-repr-fallback\"><pre>RandomizedSearchCV(cv=5, estimator=RandomForestClassifier(), n_iter=100,\n",
       "                   param_distributions={&#x27;bootstrap&#x27;: [True, False],\n",
       "                                        &#x27;max_depth&#x27;: [10, 20, 30],\n",
       "                                        &#x27;min_samples_leaf&#x27;: [1, 2, 4],\n",
       "                                        &#x27;min_samples_split&#x27;: [2, 5, 10],\n",
       "                                        &#x27;n_estimators&#x27;: [100, 200, 500]},\n",
       "                   random_state=42)</pre><b>In a Jupyter environment, please rerun this cell to show the HTML representation or trust the notebook. <br />On GitHub, the HTML representation is unable to render, please try loading this page with nbviewer.org.</b></div><div class=\"sk-container\" hidden><div class=\"sk-item sk-dashed-wrapped\"><div class=\"sk-label-container\"><div class=\"sk-label sk-toggleable\"><input class=\"sk-toggleable__control sk-hidden--visually\" id=\"sk-estimator-id-2\" type=\"checkbox\" ><label for=\"sk-estimator-id-2\" class=\"sk-toggleable__label sk-toggleable__label-arrow\">RandomizedSearchCV</label><div class=\"sk-toggleable__content\"><pre>RandomizedSearchCV(cv=5, estimator=RandomForestClassifier(), n_iter=100,\n",
       "                   param_distributions={&#x27;bootstrap&#x27;: [True, False],\n",
       "                                        &#x27;max_depth&#x27;: [10, 20, 30],\n",
       "                                        &#x27;min_samples_leaf&#x27;: [1, 2, 4],\n",
       "                                        &#x27;min_samples_split&#x27;: [2, 5, 10],\n",
       "                                        &#x27;n_estimators&#x27;: [100, 200, 500]},\n",
       "                   random_state=42)</pre></div></div></div><div class=\"sk-parallel\"><div class=\"sk-parallel-item\"><div class=\"sk-item\"><div class=\"sk-label-container\"><div class=\"sk-label sk-toggleable\"><input class=\"sk-toggleable__control sk-hidden--visually\" id=\"sk-estimator-id-3\" type=\"checkbox\" ><label for=\"sk-estimator-id-3\" class=\"sk-toggleable__label sk-toggleable__label-arrow\">estimator: RandomForestClassifier</label><div class=\"sk-toggleable__content\"><pre>RandomForestClassifier()</pre></div></div></div><div class=\"sk-serial\"><div class=\"sk-item\"><div class=\"sk-estimator sk-toggleable\"><input class=\"sk-toggleable__control sk-hidden--visually\" id=\"sk-estimator-id-4\" type=\"checkbox\" ><label for=\"sk-estimator-id-4\" class=\"sk-toggleable__label sk-toggleable__label-arrow\">RandomForestClassifier</label><div class=\"sk-toggleable__content\"><pre>RandomForestClassifier()</pre></div></div></div></div></div></div></div></div></div></div>"
      ],
      "text/plain": [
       "RandomizedSearchCV(cv=5, estimator=RandomForestClassifier(), n_iter=100,\n",
       "                   param_distributions={'bootstrap': [True, False],\n",
       "                                        'max_depth': [10, 20, 30],\n",
       "                                        'min_samples_leaf': [1, 2, 4],\n",
       "                                        'min_samples_split': [2, 5, 10],\n",
       "                                        'n_estimators': [100, 200, 500]},\n",
       "                   random_state=42)"
      ]
     },
     "execution_count": 20,
     "metadata": {},
     "output_type": "execute_result"
    }
   ],
   "source": [
    "param_grid = {\n",
    "    'bootstrap': [True, False],\n",
    "    'max_depth': [10, 20, 30],\n",
    "    'min_samples_leaf': [1, 2, 4],\n",
    "    'min_samples_split': [2, 5, 10],\n",
    "    'n_estimators': [100, 200, 500]\n",
    "}\n",
    "\n",
    "rand_search_cv = RandomizedSearchCV(estimator=afl_rf,\n",
    "                                    param_distributions=param_grid,\n",
    "                                    cv=5,\n",
    "                                    n_iter=100,\n",
    "                                    random_state=42)\n",
    "\n",
    "rand_search_cv.fit(afl_prepared, train_labels)"
   ]
  },
  {
   "attachments": {},
   "cell_type": "markdown",
   "metadata": {},
   "source": [
    "This took about half an hour to do. Let's see the results:"
   ]
  },
  {
   "cell_type": "code",
   "execution_count": 21,
   "metadata": {},
   "outputs": [
    {
     "data": {
      "text/plain": [
       "{'n_estimators': 500,\n",
       " 'min_samples_split': 10,\n",
       " 'min_samples_leaf': 2,\n",
       " 'max_depth': 20,\n",
       " 'bootstrap': True}"
      ]
     },
     "execution_count": 21,
     "metadata": {},
     "output_type": "execute_result"
    }
   ],
   "source": [
    "rand_search_cv.best_params_"
   ]
  },
  {
   "cell_type": "code",
   "execution_count": 22,
   "metadata": {},
   "outputs": [],
   "source": [
    "best_rf = rand_search_cv.best_estimator_"
   ]
  },
  {
   "cell_type": "code",
   "execution_count": 24,
   "metadata": {},
   "outputs": [
    {
     "name": "stdout",
     "output_type": "stream",
     "text": [
      "Accuracy = 65.09%\n"
     ]
    }
   ],
   "source": [
    "evaluate_model(best_rf, afl_prepared, train_labels)"
   ]
  },
  {
   "attachments": {},
   "cell_type": "markdown",
   "metadata": {},
   "source": [
    "Some of the best parameters were the maximum values, so possible we'd improve the model by increasing these parameters. For this reason we will do a second search."
   ]
  },
  {
   "cell_type": "code",
   "execution_count": 21,
   "metadata": {},
   "outputs": [
    {
     "data": {
      "text/html": [
       "<style>#sk-container-id-2 {color: black;background-color: white;}#sk-container-id-2 pre{padding: 0;}#sk-container-id-2 div.sk-toggleable {background-color: white;}#sk-container-id-2 label.sk-toggleable__label {cursor: pointer;display: block;width: 100%;margin-bottom: 0;padding: 0.3em;box-sizing: border-box;text-align: center;}#sk-container-id-2 label.sk-toggleable__label-arrow:before {content: \"▸\";float: left;margin-right: 0.25em;color: #696969;}#sk-container-id-2 label.sk-toggleable__label-arrow:hover:before {color: black;}#sk-container-id-2 div.sk-estimator:hover label.sk-toggleable__label-arrow:before {color: black;}#sk-container-id-2 div.sk-toggleable__content {max-height: 0;max-width: 0;overflow: hidden;text-align: left;background-color: #f0f8ff;}#sk-container-id-2 div.sk-toggleable__content pre {margin: 0.2em;color: black;border-radius: 0.25em;background-color: #f0f8ff;}#sk-container-id-2 input.sk-toggleable__control:checked~div.sk-toggleable__content {max-height: 200px;max-width: 100%;overflow: auto;}#sk-container-id-2 input.sk-toggleable__control:checked~label.sk-toggleable__label-arrow:before {content: \"▾\";}#sk-container-id-2 div.sk-estimator input.sk-toggleable__control:checked~label.sk-toggleable__label {background-color: #d4ebff;}#sk-container-id-2 div.sk-label input.sk-toggleable__control:checked~label.sk-toggleable__label {background-color: #d4ebff;}#sk-container-id-2 input.sk-hidden--visually {border: 0;clip: rect(1px 1px 1px 1px);clip: rect(1px, 1px, 1px, 1px);height: 1px;margin: -1px;overflow: hidden;padding: 0;position: absolute;width: 1px;}#sk-container-id-2 div.sk-estimator {font-family: monospace;background-color: #f0f8ff;border: 1px dotted black;border-radius: 0.25em;box-sizing: border-box;margin-bottom: 0.5em;}#sk-container-id-2 div.sk-estimator:hover {background-color: #d4ebff;}#sk-container-id-2 div.sk-parallel-item::after {content: \"\";width: 100%;border-bottom: 1px solid gray;flex-grow: 1;}#sk-container-id-2 div.sk-label:hover label.sk-toggleable__label {background-color: #d4ebff;}#sk-container-id-2 div.sk-serial::before {content: \"\";position: absolute;border-left: 1px solid gray;box-sizing: border-box;top: 0;bottom: 0;left: 50%;z-index: 0;}#sk-container-id-2 div.sk-serial {display: flex;flex-direction: column;align-items: center;background-color: white;padding-right: 0.2em;padding-left: 0.2em;position: relative;}#sk-container-id-2 div.sk-item {position: relative;z-index: 1;}#sk-container-id-2 div.sk-parallel {display: flex;align-items: stretch;justify-content: center;background-color: white;position: relative;}#sk-container-id-2 div.sk-item::before, #sk-container-id-2 div.sk-parallel-item::before {content: \"\";position: absolute;border-left: 1px solid gray;box-sizing: border-box;top: 0;bottom: 0;left: 50%;z-index: -1;}#sk-container-id-2 div.sk-parallel-item {display: flex;flex-direction: column;z-index: 1;position: relative;background-color: white;}#sk-container-id-2 div.sk-parallel-item:first-child::after {align-self: flex-end;width: 50%;}#sk-container-id-2 div.sk-parallel-item:last-child::after {align-self: flex-start;width: 50%;}#sk-container-id-2 div.sk-parallel-item:only-child::after {width: 0;}#sk-container-id-2 div.sk-dashed-wrapped {border: 1px dashed gray;margin: 0 0.4em 0.5em 0.4em;box-sizing: border-box;padding-bottom: 0.4em;background-color: white;}#sk-container-id-2 div.sk-label label {font-family: monospace;font-weight: bold;display: inline-block;line-height: 1.2em;}#sk-container-id-2 div.sk-label-container {text-align: center;}#sk-container-id-2 div.sk-container {/* jupyter's `normalize.less` sets `[hidden] { display: none; }` but bootstrap.min.css set `[hidden] { display: none !important; }` so we also need the `!important` here to be able to override the default hidden behavior on the sphinx rendered scikit-learn.org. See: https://github.com/scikit-learn/scikit-learn/issues/21755 */display: inline-block !important;position: relative;}#sk-container-id-2 div.sk-text-repr-fallback {display: none;}</style><div id=\"sk-container-id-2\" class=\"sk-top-container\"><div class=\"sk-text-repr-fallback\"><pre>RandomizedSearchCV(cv=5, estimator=RandomForestClassifier(), n_iter=100,\n",
       "                   param_distributions={&#x27;bootstrap&#x27;: [True, False],\n",
       "                                        &#x27;max_depth&#x27;: [15, 20, 25],\n",
       "                                        &#x27;min_samples_leaf&#x27;: [2, 3],\n",
       "                                        &#x27;min_samples_split&#x27;: [10, 20, 30],\n",
       "                                        &#x27;n_estimators&#x27;: [400, 500, 750, 1000]},\n",
       "                   random_state=42)</pre><b>In a Jupyter environment, please rerun this cell to show the HTML representation or trust the notebook. <br />On GitHub, the HTML representation is unable to render, please try loading this page with nbviewer.org.</b></div><div class=\"sk-container\" hidden><div class=\"sk-item sk-dashed-wrapped\"><div class=\"sk-label-container\"><div class=\"sk-label sk-toggleable\"><input class=\"sk-toggleable__control sk-hidden--visually\" id=\"sk-estimator-id-2\" type=\"checkbox\" ><label for=\"sk-estimator-id-2\" class=\"sk-toggleable__label sk-toggleable__label-arrow\">RandomizedSearchCV</label><div class=\"sk-toggleable__content\"><pre>RandomizedSearchCV(cv=5, estimator=RandomForestClassifier(), n_iter=100,\n",
       "                   param_distributions={&#x27;bootstrap&#x27;: [True, False],\n",
       "                                        &#x27;max_depth&#x27;: [15, 20, 25],\n",
       "                                        &#x27;min_samples_leaf&#x27;: [2, 3],\n",
       "                                        &#x27;min_samples_split&#x27;: [10, 20, 30],\n",
       "                                        &#x27;n_estimators&#x27;: [400, 500, 750, 1000]},\n",
       "                   random_state=42)</pre></div></div></div><div class=\"sk-parallel\"><div class=\"sk-parallel-item\"><div class=\"sk-item\"><div class=\"sk-label-container\"><div class=\"sk-label sk-toggleable\"><input class=\"sk-toggleable__control sk-hidden--visually\" id=\"sk-estimator-id-3\" type=\"checkbox\" ><label for=\"sk-estimator-id-3\" class=\"sk-toggleable__label sk-toggleable__label-arrow\">estimator: RandomForestClassifier</label><div class=\"sk-toggleable__content\"><pre>RandomForestClassifier()</pre></div></div></div><div class=\"sk-serial\"><div class=\"sk-item\"><div class=\"sk-estimator sk-toggleable\"><input class=\"sk-toggleable__control sk-hidden--visually\" id=\"sk-estimator-id-4\" type=\"checkbox\" ><label for=\"sk-estimator-id-4\" class=\"sk-toggleable__label sk-toggleable__label-arrow\">RandomForestClassifier</label><div class=\"sk-toggleable__content\"><pre>RandomForestClassifier()</pre></div></div></div></div></div></div></div></div></div></div>"
      ],
      "text/plain": [
       "RandomizedSearchCV(cv=5, estimator=RandomForestClassifier(), n_iter=100,\n",
       "                   param_distributions={'bootstrap': [True, False],\n",
       "                                        'max_depth': [15, 20, 25],\n",
       "                                        'min_samples_leaf': [2, 3],\n",
       "                                        'min_samples_split': [10, 20, 30],\n",
       "                                        'n_estimators': [400, 500, 750, 1000]},\n",
       "                   random_state=42)"
      ]
     },
     "execution_count": 21,
     "metadata": {},
     "output_type": "execute_result"
    }
   ],
   "source": [
    "param_grid2 = {\n",
    "    'bootstrap': [True, False],\n",
    "    'max_depth': [15, 20, 25],\n",
    "    'min_samples_leaf': [2, 3],\n",
    "    'min_samples_split': [10, 20, 30],\n",
    "    'n_estimators': [400, 500, 750, 1000]\n",
    "}\n",
    "\n",
    "rand_search_cv2 = RandomizedSearchCV(estimator=afl_rf,\n",
    "                                    param_distributions=param_grid2,\n",
    "                                    cv=5,\n",
    "                                    n_iter=100,\n",
    "                                    random_state=42)\n",
    "\n",
    "rand_search_cv2.fit(afl_prepared, train_labels)"
   ]
  },
  {
   "cell_type": "code",
   "execution_count": 22,
   "metadata": {},
   "outputs": [
    {
     "data": {
      "text/plain": [
       "{'n_estimators': 1000,\n",
       " 'min_samples_split': 30,\n",
       " 'min_samples_leaf': 3,\n",
       " 'max_depth': 20,\n",
       " 'bootstrap': True}"
      ]
     },
     "execution_count": 22,
     "metadata": {},
     "output_type": "execute_result"
    }
   ],
   "source": [
    "rand_search_cv2.best_params_"
   ]
  },
  {
   "cell_type": "code",
   "execution_count": 23,
   "metadata": {},
   "outputs": [
    {
     "name": "stdout",
     "output_type": "stream",
     "text": [
      "Accuracy = 65.17%\n"
     ]
    }
   ],
   "source": [
    "evaluate_model(rand_search_cv2.best_estimator_, afl_prepared, train_labels)"
   ]
  },
  {
   "attachments": {},
   "cell_type": "markdown",
   "metadata": {},
   "source": [
    "n_estimators and min_samples_split are still at their max values, so we could do another search.\n",
    "\n",
    "However, the previous search only resulted in a very modest increase in accuracy, so we'll leave the fine tuning here for now."
   ]
  },
  {
   "attachments": {},
   "cell_type": "markdown",
   "metadata": {},
   "source": [
    "#### Logistic Regression"
   ]
  },
  {
   "cell_type": "code",
   "execution_count": 17,
   "metadata": {},
   "outputs": [
    {
     "data": {
      "text/html": [
       "<style>#sk-container-id-2 {color: black;background-color: white;}#sk-container-id-2 pre{padding: 0;}#sk-container-id-2 div.sk-toggleable {background-color: white;}#sk-container-id-2 label.sk-toggleable__label {cursor: pointer;display: block;width: 100%;margin-bottom: 0;padding: 0.3em;box-sizing: border-box;text-align: center;}#sk-container-id-2 label.sk-toggleable__label-arrow:before {content: \"▸\";float: left;margin-right: 0.25em;color: #696969;}#sk-container-id-2 label.sk-toggleable__label-arrow:hover:before {color: black;}#sk-container-id-2 div.sk-estimator:hover label.sk-toggleable__label-arrow:before {color: black;}#sk-container-id-2 div.sk-toggleable__content {max-height: 0;max-width: 0;overflow: hidden;text-align: left;background-color: #f0f8ff;}#sk-container-id-2 div.sk-toggleable__content pre {margin: 0.2em;color: black;border-radius: 0.25em;background-color: #f0f8ff;}#sk-container-id-2 input.sk-toggleable__control:checked~div.sk-toggleable__content {max-height: 200px;max-width: 100%;overflow: auto;}#sk-container-id-2 input.sk-toggleable__control:checked~label.sk-toggleable__label-arrow:before {content: \"▾\";}#sk-container-id-2 div.sk-estimator input.sk-toggleable__control:checked~label.sk-toggleable__label {background-color: #d4ebff;}#sk-container-id-2 div.sk-label input.sk-toggleable__control:checked~label.sk-toggleable__label {background-color: #d4ebff;}#sk-container-id-2 input.sk-hidden--visually {border: 0;clip: rect(1px 1px 1px 1px);clip: rect(1px, 1px, 1px, 1px);height: 1px;margin: -1px;overflow: hidden;padding: 0;position: absolute;width: 1px;}#sk-container-id-2 div.sk-estimator {font-family: monospace;background-color: #f0f8ff;border: 1px dotted black;border-radius: 0.25em;box-sizing: border-box;margin-bottom: 0.5em;}#sk-container-id-2 div.sk-estimator:hover {background-color: #d4ebff;}#sk-container-id-2 div.sk-parallel-item::after {content: \"\";width: 100%;border-bottom: 1px solid gray;flex-grow: 1;}#sk-container-id-2 div.sk-label:hover label.sk-toggleable__label {background-color: #d4ebff;}#sk-container-id-2 div.sk-serial::before {content: \"\";position: absolute;border-left: 1px solid gray;box-sizing: border-box;top: 0;bottom: 0;left: 50%;z-index: 0;}#sk-container-id-2 div.sk-serial {display: flex;flex-direction: column;align-items: center;background-color: white;padding-right: 0.2em;padding-left: 0.2em;position: relative;}#sk-container-id-2 div.sk-item {position: relative;z-index: 1;}#sk-container-id-2 div.sk-parallel {display: flex;align-items: stretch;justify-content: center;background-color: white;position: relative;}#sk-container-id-2 div.sk-item::before, #sk-container-id-2 div.sk-parallel-item::before {content: \"\";position: absolute;border-left: 1px solid gray;box-sizing: border-box;top: 0;bottom: 0;left: 50%;z-index: -1;}#sk-container-id-2 div.sk-parallel-item {display: flex;flex-direction: column;z-index: 1;position: relative;background-color: white;}#sk-container-id-2 div.sk-parallel-item:first-child::after {align-self: flex-end;width: 50%;}#sk-container-id-2 div.sk-parallel-item:last-child::after {align-self: flex-start;width: 50%;}#sk-container-id-2 div.sk-parallel-item:only-child::after {width: 0;}#sk-container-id-2 div.sk-dashed-wrapped {border: 1px dashed gray;margin: 0 0.4em 0.5em 0.4em;box-sizing: border-box;padding-bottom: 0.4em;background-color: white;}#sk-container-id-2 div.sk-label label {font-family: monospace;font-weight: bold;display: inline-block;line-height: 1.2em;}#sk-container-id-2 div.sk-label-container {text-align: center;}#sk-container-id-2 div.sk-container {/* jupyter's `normalize.less` sets `[hidden] { display: none; }` but bootstrap.min.css set `[hidden] { display: none !important; }` so we also need the `!important` here to be able to override the default hidden behavior on the sphinx rendered scikit-learn.org. See: https://github.com/scikit-learn/scikit-learn/issues/21755 */display: inline-block !important;position: relative;}#sk-container-id-2 div.sk-text-repr-fallback {display: none;}</style><div id=\"sk-container-id-2\" class=\"sk-top-container\"><div class=\"sk-text-repr-fallback\"><pre>LogisticRegression(max_iter=500)</pre><b>In a Jupyter environment, please rerun this cell to show the HTML representation or trust the notebook. <br />On GitHub, the HTML representation is unable to render, please try loading this page with nbviewer.org.</b></div><div class=\"sk-container\" hidden><div class=\"sk-item\"><div class=\"sk-estimator sk-toggleable\"><input class=\"sk-toggleable__control sk-hidden--visually\" id=\"sk-estimator-id-2\" type=\"checkbox\" checked><label for=\"sk-estimator-id-2\" class=\"sk-toggleable__label sk-toggleable__label-arrow\">LogisticRegression</label><div class=\"sk-toggleable__content\"><pre>LogisticRegression(max_iter=500)</pre></div></div></div></div></div>"
      ],
      "text/plain": [
       "LogisticRegression(max_iter=500)"
      ]
     },
     "execution_count": 17,
     "metadata": {},
     "output_type": "execute_result"
    }
   ],
   "source": [
    "from sklearn.linear_model import LogisticRegression\n",
    "\n",
    "log_reg = LogisticRegression(max_iter=500)\n",
    "log_reg.fit(afl_prepared, train_labels)"
   ]
  },
  {
   "cell_type": "code",
   "execution_count": 18,
   "metadata": {},
   "outputs": [
    {
     "name": "stdout",
     "output_type": "stream",
     "text": [
      "Accuracy = 64.82%\n"
     ]
    }
   ],
   "source": [
    "evaluate_model(log_reg, afl_prepared, train_labels)"
   ]
  },
  {
   "attachments": {},
   "cell_type": "markdown",
   "metadata": {},
   "source": [
    "So, out of the box this seems to at least do as well as the random forest classifier."
   ]
  },
  {
   "attachments": {},
   "cell_type": "markdown",
   "metadata": {},
   "source": [
    "#### Support Vector Machine"
   ]
  },
  {
   "cell_type": "code",
   "execution_count": 43,
   "metadata": {},
   "outputs": [],
   "source": [
    "from sklearn.svm import LinearSVC\n",
    "linearSVC = LinearSVC(C=0.001, loss='hinge')"
   ]
  },
  {
   "cell_type": "code",
   "execution_count": 44,
   "metadata": {},
   "outputs": [
    {
     "name": "stdout",
     "output_type": "stream",
     "text": [
      "Accuracy = 65.29%\n"
     ]
    }
   ],
   "source": [
    "evaluate_model(linearSVC, afl_prepared, train_labels)"
   ]
  },
  {
   "cell_type": "code",
   "execution_count": 21,
   "metadata": {},
   "outputs": [
    {
     "name": "stdout",
     "output_type": "stream",
     "text": [
      "Accuracy = 57.55%\n"
     ]
    }
   ],
   "source": [
    "# Polynomial SVM\n",
    "from sklearn.svm import SVC\n",
    "poly_svm = SVC(kernel = \"poly\", degree=3, C=0.0001)\n",
    "evaluate_model(poly_svm, afl_prepared, train_labels)"
   ]
  },
  {
   "attachments": {},
   "cell_type": "markdown",
   "metadata": {},
   "source": [
    "So higher degree polynomials don't appear to do a better job."
   ]
  },
  {
   "attachments": {},
   "cell_type": "markdown",
   "metadata": {},
   "source": [
    "#### Neural networks"
   ]
  },
  {
   "cell_type": "code",
   "execution_count": 22,
   "metadata": {},
   "outputs": [],
   "source": [
    "import tensorflow as tf \n",
    "from tensorflow import keras"
   ]
  },
  {
   "cell_type": "code",
   "execution_count": 23,
   "metadata": {},
   "outputs": [],
   "source": [
    "# Neural networks need integer labels\n",
    "bin_labels = (train_labels == \"Home\").astype('int')"
   ]
  },
  {
   "cell_type": "code",
   "execution_count": 26,
   "metadata": {},
   "outputs": [],
   "source": [
    "def build_model(n_hidden=1, n_neurons=30, learning_rate=3e-3):\n",
    "    model = keras.models.Sequential()\n",
    "    model.add(keras.layers.Input(shape=(38,)))\n",
    "    for layer in range(n_hidden):\n",
    "        model.add(keras.layers.Dense(n_neurons, activation=\"relu\"))\n",
    "    model.add(keras.layers.Dense(1, activation=\"sigmoid\"))\n",
    "    optimizer = keras.optimizers.Adam(learning_rate)\n",
    "    model.compile(loss=keras.losses.binary_crossentropy, optimizer=optimizer)\n",
    "    return model"
   ]
  },
  {
   "cell_type": "code",
   "execution_count": 89,
   "metadata": {},
   "outputs": [
    {
     "name": "stdout",
     "output_type": "stream",
     "text": [
      "77/77 [==============================] - 2s 2ms/step - loss: 0.6406\n",
      "39/39 [==============================] - 0s 2ms/step\n",
      "77/77 [==============================] - 1s 1ms/step - loss: 0.6461\n",
      "39/39 [==============================] - 0s 1ms/step\n",
      "77/77 [==============================] - 1s 1ms/step - loss: 0.6489\n",
      "39/39 [==============================] - 0s 1ms/step\n",
      "Accuracy = 64.39%\n"
     ]
    }
   ],
   "source": [
    "from scikeras.wrappers import KerasClassifier\n",
    "\n",
    "keras_clf = KerasClassifier(\n",
    "    model=build_model,\n",
    "    n_hidden=1,\n",
    "    n_neurons=30,\n",
    "    learning_rate = 3e-3\n",
    ")\n",
    "evaluate_model(keras_clf, afl_prepared, bin_labels)"
   ]
  },
  {
   "cell_type": "code",
   "execution_count": 91,
   "metadata": {},
   "outputs": [
    {
     "name": "stdout",
     "output_type": "stream",
     "text": [
      "39/39 [==============================] - 0s 1ms/step\n",
      "39/39 [==============================] - 0s 1ms/step\n",
      "39/39 [==============================] - 0s 1ms/step\n",
      "39/39 [==============================] - 0s 1ms/step\n",
      "39/39 [==============================] - 0s 1ms/step\n",
      "39/39 [==============================] - 0s 1ms/step\n",
      "39/39 [==============================] - 0s 1ms/step\n",
      "39/39 [==============================] - 0s 1ms/step\n",
      "39/39 [==============================] - 0s 1ms/step\n",
      "39/39 [==============================] - 0s 1ms/step\n",
      "39/39 [==============================] - 0s 1ms/step\n",
      "39/39 [==============================] - 0s 1ms/step\n",
      "39/39 [==============================] - 0s 1ms/step\n",
      "39/39 [==============================] - 0s 1ms/step\n",
      "39/39 [==============================] - 0s 2ms/step\n",
      "39/39 [==============================] - 0s 1ms/step\n",
      "39/39 [==============================] - 0s 1ms/step\n",
      "39/39 [==============================] - 0s 2ms/step\n",
      "39/39 [==============================] - 0s 1ms/step\n",
      "39/39 [==============================] - 0s 1ms/step\n",
      "39/39 [==============================] - 0s 1ms/step\n",
      "39/39 [==============================] - 0s 1ms/step\n",
      "39/39 [==============================] - 0s 1ms/step\n",
      "39/39 [==============================] - 0s 1ms/step\n",
      "39/39 [==============================] - 0s 2ms/step\n",
      "39/39 [==============================] - 0s 1ms/step\n",
      "39/39 [==============================] - 0s 2ms/step\n",
      "39/39 [==============================] - 0s 1ms/step\n",
      "39/39 [==============================] - 0s 1ms/step\n",
      "39/39 [==============================] - 0s 1ms/step\n"
     ]
    },
    {
     "data": {
      "text/html": [
       "<style>#sk-container-id-3 {color: black;background-color: white;}#sk-container-id-3 pre{padding: 0;}#sk-container-id-3 div.sk-toggleable {background-color: white;}#sk-container-id-3 label.sk-toggleable__label {cursor: pointer;display: block;width: 100%;margin-bottom: 0;padding: 0.3em;box-sizing: border-box;text-align: center;}#sk-container-id-3 label.sk-toggleable__label-arrow:before {content: \"▸\";float: left;margin-right: 0.25em;color: #696969;}#sk-container-id-3 label.sk-toggleable__label-arrow:hover:before {color: black;}#sk-container-id-3 div.sk-estimator:hover label.sk-toggleable__label-arrow:before {color: black;}#sk-container-id-3 div.sk-toggleable__content {max-height: 0;max-width: 0;overflow: hidden;text-align: left;background-color: #f0f8ff;}#sk-container-id-3 div.sk-toggleable__content pre {margin: 0.2em;color: black;border-radius: 0.25em;background-color: #f0f8ff;}#sk-container-id-3 input.sk-toggleable__control:checked~div.sk-toggleable__content {max-height: 200px;max-width: 100%;overflow: auto;}#sk-container-id-3 input.sk-toggleable__control:checked~label.sk-toggleable__label-arrow:before {content: \"▾\";}#sk-container-id-3 div.sk-estimator input.sk-toggleable__control:checked~label.sk-toggleable__label {background-color: #d4ebff;}#sk-container-id-3 div.sk-label input.sk-toggleable__control:checked~label.sk-toggleable__label {background-color: #d4ebff;}#sk-container-id-3 input.sk-hidden--visually {border: 0;clip: rect(1px 1px 1px 1px);clip: rect(1px, 1px, 1px, 1px);height: 1px;margin: -1px;overflow: hidden;padding: 0;position: absolute;width: 1px;}#sk-container-id-3 div.sk-estimator {font-family: monospace;background-color: #f0f8ff;border: 1px dotted black;border-radius: 0.25em;box-sizing: border-box;margin-bottom: 0.5em;}#sk-container-id-3 div.sk-estimator:hover {background-color: #d4ebff;}#sk-container-id-3 div.sk-parallel-item::after {content: \"\";width: 100%;border-bottom: 1px solid gray;flex-grow: 1;}#sk-container-id-3 div.sk-label:hover label.sk-toggleable__label {background-color: #d4ebff;}#sk-container-id-3 div.sk-serial::before {content: \"\";position: absolute;border-left: 1px solid gray;box-sizing: border-box;top: 0;bottom: 0;left: 50%;z-index: 0;}#sk-container-id-3 div.sk-serial {display: flex;flex-direction: column;align-items: center;background-color: white;padding-right: 0.2em;padding-left: 0.2em;position: relative;}#sk-container-id-3 div.sk-item {position: relative;z-index: 1;}#sk-container-id-3 div.sk-parallel {display: flex;align-items: stretch;justify-content: center;background-color: white;position: relative;}#sk-container-id-3 div.sk-item::before, #sk-container-id-3 div.sk-parallel-item::before {content: \"\";position: absolute;border-left: 1px solid gray;box-sizing: border-box;top: 0;bottom: 0;left: 50%;z-index: -1;}#sk-container-id-3 div.sk-parallel-item {display: flex;flex-direction: column;z-index: 1;position: relative;background-color: white;}#sk-container-id-3 div.sk-parallel-item:first-child::after {align-self: flex-end;width: 50%;}#sk-container-id-3 div.sk-parallel-item:last-child::after {align-self: flex-start;width: 50%;}#sk-container-id-3 div.sk-parallel-item:only-child::after {width: 0;}#sk-container-id-3 div.sk-dashed-wrapped {border: 1px dashed gray;margin: 0 0.4em 0.5em 0.4em;box-sizing: border-box;padding-bottom: 0.4em;background-color: white;}#sk-container-id-3 div.sk-label label {font-family: monospace;font-weight: bold;display: inline-block;line-height: 1.2em;}#sk-container-id-3 div.sk-label-container {text-align: center;}#sk-container-id-3 div.sk-container {/* jupyter's `normalize.less` sets `[hidden] { display: none; }` but bootstrap.min.css set `[hidden] { display: none !important; }` so we also need the `!important` here to be able to override the default hidden behavior on the sphinx rendered scikit-learn.org. See: https://github.com/scikit-learn/scikit-learn/issues/21755 */display: inline-block !important;position: relative;}#sk-container-id-3 div.sk-text-repr-fallback {display: none;}</style><div id=\"sk-container-id-3\" class=\"sk-top-container\"><div class=\"sk-text-repr-fallback\"><pre>RandomizedSearchCV(cv=3,\n",
       "                   estimator=KerasClassifier(learning_rate=0.003, model=&lt;function build_model at 0x0000015BE74B8550&gt;, n_hidden=1, n_neurons=30),\n",
       "                   param_distributions={&#x27;learning_rate&#x27;: &lt;scipy.stats._distn_infrastructure.rv_continuous_frozen object at 0x0000015BF0D4C580&gt;,\n",
       "                                        &#x27;n_hidden&#x27;: [1, 2, 3, 4],\n",
       "                                        &#x27;n_neurons&#x27;: [10, 20, 30]})</pre><b>In a Jupyter environment, please rerun this cell to show the HTML representation or trust the notebook. <br />On GitHub, the HTML representation is unable to render, please try loading this page with nbviewer.org.</b></div><div class=\"sk-container\" hidden><div class=\"sk-item sk-dashed-wrapped\"><div class=\"sk-label-container\"><div class=\"sk-label sk-toggleable\"><input class=\"sk-toggleable__control sk-hidden--visually\" id=\"sk-estimator-id-3\" type=\"checkbox\" ><label for=\"sk-estimator-id-3\" class=\"sk-toggleable__label sk-toggleable__label-arrow\">RandomizedSearchCV</label><div class=\"sk-toggleable__content\"><pre>RandomizedSearchCV(cv=3,\n",
       "                   estimator=KerasClassifier(learning_rate=0.003, model=&lt;function build_model at 0x0000015BE74B8550&gt;, n_hidden=1, n_neurons=30),\n",
       "                   param_distributions={&#x27;learning_rate&#x27;: &lt;scipy.stats._distn_infrastructure.rv_continuous_frozen object at 0x0000015BF0D4C580&gt;,\n",
       "                                        &#x27;n_hidden&#x27;: [1, 2, 3, 4],\n",
       "                                        &#x27;n_neurons&#x27;: [10, 20, 30]})</pre></div></div></div><div class=\"sk-parallel\"><div class=\"sk-parallel-item\"><div class=\"sk-item\"><div class=\"sk-label-container\"><div class=\"sk-label sk-toggleable\"><input class=\"sk-toggleable__control sk-hidden--visually\" id=\"sk-estimator-id-4\" type=\"checkbox\" ><label for=\"sk-estimator-id-4\" class=\"sk-toggleable__label sk-toggleable__label-arrow\">estimator: KerasClassifier</label><div class=\"sk-toggleable__content\"><pre>KerasClassifier(\n",
       "\tmodel=&lt;function build_model at 0x0000015BE74B8550&gt;\n",
       "\tbuild_fn=None\n",
       "\twarm_start=False\n",
       "\trandom_state=None\n",
       "\toptimizer=rmsprop\n",
       "\tloss=None\n",
       "\tmetrics=None\n",
       "\tbatch_size=None\n",
       "\tvalidation_batch_size=None\n",
       "\tverbose=1\n",
       "\tcallbacks=None\n",
       "\tvalidation_split=0.0\n",
       "\tshuffle=True\n",
       "\trun_eagerly=False\n",
       "\tepochs=1\n",
       "\tn_hidden=1\n",
       "\tn_neurons=30\n",
       "\tlearning_rate=0.003\n",
       "\tclass_weight=None\n",
       ")</pre></div></div></div><div class=\"sk-serial\"><div class=\"sk-item\"><div class=\"sk-estimator sk-toggleable\"><input class=\"sk-toggleable__control sk-hidden--visually\" id=\"sk-estimator-id-5\" type=\"checkbox\" ><label for=\"sk-estimator-id-5\" class=\"sk-toggleable__label sk-toggleable__label-arrow\">KerasClassifier</label><div class=\"sk-toggleable__content\"><pre>KerasClassifier(\n",
       "\tmodel=&lt;function build_model at 0x0000015BE74B8550&gt;\n",
       "\tbuild_fn=None\n",
       "\twarm_start=False\n",
       "\trandom_state=None\n",
       "\toptimizer=rmsprop\n",
       "\tloss=None\n",
       "\tmetrics=None\n",
       "\tbatch_size=None\n",
       "\tvalidation_batch_size=None\n",
       "\tverbose=1\n",
       "\tcallbacks=None\n",
       "\tvalidation_split=0.0\n",
       "\tshuffle=True\n",
       "\trun_eagerly=False\n",
       "\tepochs=1\n",
       "\tn_hidden=1\n",
       "\tn_neurons=30\n",
       "\tlearning_rate=0.003\n",
       "\tclass_weight=None\n",
       ")</pre></div></div></div></div></div></div></div></div></div></div>"
      ],
      "text/plain": [
       "RandomizedSearchCV(cv=3,\n",
       "                   estimator=KerasClassifier(learning_rate=0.003, model=<function build_model at 0x0000015BE74B8550>, n_hidden=1, n_neurons=30),\n",
       "                   param_distributions={'learning_rate': <scipy.stats._distn_infrastructure.rv_continuous_frozen object at 0x0000015BF0D4C580>,\n",
       "                                        'n_hidden': [1, 2, 3, 4],\n",
       "                                        'n_neurons': [10, 20, 30]})"
      ]
     },
     "execution_count": 91,
     "metadata": {},
     "output_type": "execute_result"
    }
   ],
   "source": [
    "from scipy.stats import reciprocal\n",
    "from sklearn.model_selection import RandomizedSearchCV\n",
    "\n",
    "param_distribs = {\n",
    "    \"n_hidden\": [1,2,3,4],\n",
    "    \"n_neurons\": [10,20,30],\n",
    "    \"learning_rate\": reciprocal(3e-4, 3e-2)\n",
    "}\n",
    "rnd_search_cv = RandomizedSearchCV(keras_clf, param_distribs, n_iter=10, cv=3)\n",
    "rnd_search_cv.fit(afl_prepared, bin_labels, epochs=100,\n",
    "                  validation_split=0.2,\n",
    "                  verbose=0)\n"
   ]
  },
  {
   "cell_type": "code",
   "execution_count": 92,
   "metadata": {},
   "outputs": [
    {
     "data": {
      "text/plain": [
       "{'learning_rate': 0.0017120646387156207, 'n_hidden': 1, 'n_neurons': 20}"
      ]
     },
     "execution_count": 92,
     "metadata": {},
     "output_type": "execute_result"
    }
   ],
   "source": [
    "rnd_search_cv.best_params_"
   ]
  },
  {
   "cell_type": "code",
   "execution_count": 93,
   "metadata": {},
   "outputs": [
    {
     "name": "stdout",
     "output_type": "stream",
     "text": [
      "77/77 [==============================] - 1s 2ms/step - loss: 0.6603\n",
      "39/39 [==============================] - 0s 3ms/step\n",
      "77/77 [==============================] - 1s 2ms/step - loss: 0.6580\n",
      "39/39 [==============================] - 0s 1ms/step\n",
      "77/77 [==============================] - 1s 2ms/step - loss: 0.6478\n",
      "39/39 [==============================] - 0s 1ms/step\n",
      "Accuracy = 63.11%\n"
     ]
    }
   ],
   "source": [
    "evaluate_model(rnd_search_cv.best_estimator_, afl_prepared, bin_labels)"
   ]
  },
  {
   "cell_type": "code",
   "execution_count": 94,
   "metadata": {},
   "outputs": [
    {
     "name": "stdout",
     "output_type": "stream",
     "text": [
      "77/77 [==============================] - 1s 2ms/step - loss: 0.6255\n",
      "39/39 [==============================] - 0s 2ms/step\n",
      "77/77 [==============================] - 1s 2ms/step - loss: 0.6747\n",
      "39/39 [==============================] - 0s 2ms/step\n",
      "77/77 [==============================] - 1s 2ms/step - loss: 0.6568\n",
      "39/39 [==============================] - 0s 1ms/step\n",
      "Accuracy = 64.58%\n"
     ]
    }
   ],
   "source": [
    "evaluate_model(KerasClassifier(model=build_model, n_hidden=1), afl_prepared, bin_labels)"
   ]
  },
  {
   "attachments": {},
   "cell_type": "markdown",
   "metadata": {},
   "source": [
    "### Ensemble Methods\n",
    "\n",
    "So we have four models, each achieving an accuracy of about 65%.\n",
    "\n",
    "Now we'll see if we can combine them to produce an even more accurate model."
   ]
  },
  {
   "cell_type": "code",
   "execution_count": 24,
   "metadata": {},
   "outputs": [],
   "source": [
    "from sklearn.ensemble import RandomForestClassifier\n",
    "from sklearn.linear_model import LogisticRegression\n",
    "from sklearn.svm import LinearSVC\n",
    "import tensorflow as tf \n",
    "from tensorflow import keras\n",
    "from scikeras.wrappers import KerasClassifier"
   ]
  },
  {
   "cell_type": "code",
   "execution_count": 27,
   "metadata": {},
   "outputs": [],
   "source": [
    "rf_clf = RandomForestClassifier()\n",
    "log_clf = LogisticRegression(max_iter=500)\n",
    "svm_clf = LinearSVC(C=0.001, loss='hinge')\n",
    "keras_clf = KerasClassifier(\n",
    "    model=build_model,\n",
    "    n_hidden=1,\n",
    "    n_neurons=30,\n",
    "    learning_rate = 7e-4\n",
    ")"
   ]
  },
  {
   "cell_type": "code",
   "execution_count": 28,
   "metadata": {},
   "outputs": [],
   "source": [
    "bin_labels = (train_labels == \"Home\").astype('int')"
   ]
  },
  {
   "attachments": {},
   "cell_type": "markdown",
   "metadata": {},
   "source": [
    "To establish a baseline, let's evaluate our current models:"
   ]
  },
  {
   "cell_type": "code",
   "execution_count": 29,
   "metadata": {},
   "outputs": [
    {
     "name": "stdout",
     "output_type": "stream",
     "text": [
      "RandomForestClassifier :\n",
      "Accuracy = 65.53%\n",
      "LogisticRegression :\n",
      "Accuracy = 65.31%\n",
      "LinearSVC :\n",
      "Accuracy = 65.64%\n",
      "KerasClassifier :\n",
      "77/77 [==============================] - 2s 4ms/step - loss: 0.6682\n",
      "39/39 [==============================] - 0s 3ms/step\n",
      "77/77 [==============================] - 1s 2ms/step - loss: 0.6695\n",
      "39/39 [==============================] - 0s 2ms/step\n",
      "77/77 [==============================] - 1s 3ms/step - loss: 0.6410\n",
      "39/39 [==============================] - 0s 2ms/step\n",
      "Accuracy = 63.43%\n"
     ]
    }
   ],
   "source": [
    "for clf in (rf_clf, log_clf, svm_clf, keras_clf):\n",
    "    print(clf.__class__.__name__, \":\")\n",
    "    evaluate_model(clf, afl_prepared, bin_labels)"
   ]
  },
  {
   "attachments": {},
   "cell_type": "markdown",
   "metadata": {},
   "source": [
    "So our svm and logistic regresssion models are our best. \n",
    "Let's see if we can improve them using some ensemble methods."
   ]
  },
  {
   "attachments": {},
   "cell_type": "markdown",
   "metadata": {},
   "source": [
    "### Voting classifier"
   ]
  },
  {
   "cell_type": "code",
   "execution_count": 40,
   "metadata": {},
   "outputs": [],
   "source": [
    "from sklearn.ensemble import VotingClassifier"
   ]
  },
  {
   "cell_type": "code",
   "execution_count": 50,
   "metadata": {},
   "outputs": [
    {
     "name": "stdout",
     "output_type": "stream",
     "text": [
      "77/77 [==============================] - 1s 4ms/step - loss: 0.6901\n",
      "39/39 [==============================] - 0s 2ms/step\n",
      "77/77 [==============================] - 1s 2ms/step - loss: 0.7003\n",
      "39/39 [==============================] - 0s 2ms/step\n",
      "77/77 [==============================] - 1s 2ms/step - loss: 0.6865\n",
      "39/39 [==============================] - 0s 1ms/step\n",
      "Accuracy = 65.26%\n"
     ]
    }
   ],
   "source": [
    "voting_clf = VotingClassifier(\n",
    "    estimators=[('rf', rf_clf), ('lr', log_clf), ('svm', svm_clf), ('nn', keras_clf)],\n",
    "    voting='hard'\n",
    ")\n",
    "evaluate_model(voting_clf, afl_prepared, bin_labels)"
   ]
  },
  {
   "attachments": {},
   "cell_type": "markdown",
   "metadata": {},
   "source": [
    "So the voting classifier doesn't give better results. \n",
    "Try with soft voting:"
   ]
  },
  {
   "cell_type": "code",
   "execution_count": 54,
   "metadata": {},
   "outputs": [
    {
     "name": "stdout",
     "output_type": "stream",
     "text": [
      "77/77 [==============================] - 1s 2ms/step - loss: 0.6844\n",
      "39/39 [==============================] - 0s 2ms/step\n",
      "77/77 [==============================] - 1s 2ms/step - loss: 0.8289\n",
      "39/39 [==============================] - 0s 892us/step\n",
      "77/77 [==============================] - 1s 1ms/step - loss: 0.7616\n",
      "39/39 [==============================] - 0s 993us/step\n",
      "Accuracy = 65.31%\n"
     ]
    }
   ],
   "source": [
    "voting_soft_clf = VotingClassifier(\n",
    "    estimators=[('rf', rf_clf), ('lr', log_clf), ('nn', keras_clf)],\n",
    "    voting='soft'\n",
    ")\n",
    "evaluate_model(voting_soft_clf, afl_prepared, bin_labels)"
   ]
  },
  {
   "attachments": {},
   "cell_type": "markdown",
   "metadata": {},
   "source": [
    "Note that the LinearSVM classifier doesn't predict probabilities and can't be included in the soft voting model.\n",
    "We see that using soft voting with all of the other classifiers gives us an accuracy that is almost as good as the SVM model.\n"
   ]
  },
  {
   "attachments": {},
   "cell_type": "markdown",
   "metadata": {},
   "source": [
    "### Bagging"
   ]
  },
  {
   "attachments": {},
   "cell_type": "markdown",
   "metadata": {},
   "source": [
    "Logistic regression is one of our best classifiers, so let's try an ensemble method to improve it."
   ]
  },
  {
   "cell_type": "code",
   "execution_count": 61,
   "metadata": {},
   "outputs": [
    {
     "name": "stdout",
     "output_type": "stream",
     "text": [
      "Accuracy = 65.53%\n"
     ]
    }
   ],
   "source": [
    "from sklearn.ensemble import BaggingClassifier\n",
    "\n",
    "bag_log_clf = BaggingClassifier(\n",
    "    LogisticRegression(max_iter=500), n_estimators=500,\n",
    "    max_samples=100, bootstrap=True, n_jobs=-1\n",
    ")\n",
    "evaluate_model(bag_log_clf, afl_prepared, bin_labels)"
   ]
  },
  {
   "attachments": {},
   "cell_type": "markdown",
   "metadata": {},
   "source": [
    "So bagging appears to slightly improve the logistic regression classifier, but a lot longer to train.\n",
    "\n",
    "Let's try the SVM:"
   ]
  },
  {
   "cell_type": "code",
   "execution_count": 63,
   "metadata": {},
   "outputs": [
    {
     "name": "stdout",
     "output_type": "stream",
     "text": [
      "Accuracy = 64.39%\n"
     ]
    }
   ],
   "source": [
    "bag_svm_clf = BaggingClassifier(\n",
    "    LinearSVC(C=0.001, loss='hinge'), n_estimators=500,\n",
    "    max_samples=100, bootstrap=True, n_jobs=-1\n",
    ")\n",
    "evaluate_model(bag_svm_clf, afl_prepared, bin_labels)"
   ]
  },
  {
   "attachments": {},
   "cell_type": "markdown",
   "metadata": {},
   "source": [
    "So bagging doesn't improve the LinearSVC."
   ]
  },
  {
   "attachments": {},
   "cell_type": "markdown",
   "metadata": {},
   "source": [
    "### Boosting"
   ]
  },
  {
   "cell_type": "code",
   "execution_count": 66,
   "metadata": {},
   "outputs": [
    {
     "name": "stdout",
     "output_type": "stream",
     "text": [
      "Accuracy = 65.37%\n"
     ]
    }
   ],
   "source": [
    "from sklearn.ensemble import AdaBoostClassifier\n",
    "\n",
    "ada_clf = AdaBoostClassifier(\n",
    "    log_clf, n_estimators=200,\n",
    "    algorithm=\"SAMME.R\", learning_rate=0.5\n",
    ")\n",
    "evaluate_model(ada_clf, afl_prepared, bin_labels)"
   ]
  },
  {
   "attachments": {},
   "cell_type": "markdown",
   "metadata": {},
   "source": [
    "Not bad, but not much better than logistic regression by itself."
   ]
  },
  {
   "cell_type": "code",
   "execution_count": 67,
   "metadata": {},
   "outputs": [
    {
     "name": "stdout",
     "output_type": "stream",
     "text": [
      "Accuracy = 62.83%\n"
     ]
    }
   ],
   "source": [
    "import xgboost\n",
    "\n",
    "xgb_clf = xgboost.XGBClassifier()\n",
    "evaluate_model(xgb_clf, afl_prepared, bin_labels)"
   ]
  },
  {
   "attachments": {},
   "cell_type": "markdown",
   "metadata": {},
   "source": [
    "So gradient boosting doesn't seem like a good prospect."
   ]
  },
  {
   "attachments": {},
   "cell_type": "markdown",
   "metadata": {},
   "source": [
    "## Evaluating on test set"
   ]
  },
  {
   "attachments": {},
   "cell_type": "markdown",
   "metadata": {},
   "source": [
    "Our best performing models are the LinearSVC and logistic regression. \n",
    "Let's see how they do on the test set."
   ]
  },
  {
   "cell_type": "code",
   "execution_count": 45,
   "metadata": {},
   "outputs": [
    {
     "name": "stdout",
     "output_type": "stream",
     "text": [
      "LogisticRegression\n",
      "Accuracy = 65.26%\n",
      "LinearSVC\n",
      "Accuracy = 63.35%\n"
     ]
    }
   ],
   "source": [
    "from sklearn.metrics import accuracy_score\n",
    "\n",
    "testX = afl_pipeline.fit_transform(test_set.copy())\n",
    "test_labels = get_labels(test_set.copy())\n",
    "\n",
    "log_clf = LogisticRegression(max_iter=500)\n",
    "svm_clf = LinearSVC(C=0.001, loss='hinge')\n",
    "\n",
    "for clf in (log_clf, svm_clf):\n",
    "    clf.fit(afl_prepared, train_labels)\n",
    "    preds = clf.predict(testX)\n",
    "    print(clf.__class__.__name__)\n",
    "    print(\"Accuracy = {:0.2f}%\".format(accuracy_score(test_labels, preds)*100))"
   ]
  },
  {
   "attachments": {},
   "cell_type": "markdown",
   "metadata": {},
   "source": [
    "So logistic regression does marginally better."
   ]
  },
  {
   "attachments": {},
   "cell_type": "markdown",
   "metadata": {},
   "source": [
    "## Launching the model\n",
    "\n",
    "We want to be able to make actual predictions for future games, so we will create a class to do this."
   ]
  },
  {
   "cell_type": "code",
   "execution_count": null,
   "metadata": {},
   "outputs": [],
   "source": [
    "class AFLPredictor:\n",
    "    def __init__(estimator, ):\n",
    "        self.estimator = estimator\n",
    "    "
   ]
  },
  {
   "attachments": {},
   "cell_type": "markdown",
   "metadata": {},
   "source": [
    "## Conclusion\n",
    "\n",
    "The models that performed the best were logistic regression and a linear SVM, both achieving about 65% accuracy on the test set.\n",
    "\n",
    "Of the four main models tested, neural networks performed the worst. \n",
    "However, such models required a significant amount of tuning to perform well and the training dataset isn't particularly large.\n",
    "It is possible that with proper tuning one could achieve better performance with deep learning."
   ]
  }
 ],
 "metadata": {
  "kernelspec": {
   "display_name": "Python 3",
   "language": "python",
   "name": "python3"
  },
  "language_info": {
   "codemirror_mode": {
    "name": "ipython",
    "version": 3
   },
   "file_extension": ".py",
   "mimetype": "text/x-python",
   "name": "python",
   "nbconvert_exporter": "python",
   "pygments_lexer": "ipython3",
   "version": "3.8.10"
  },
  "orig_nbformat": 4
 },
 "nbformat": 4,
 "nbformat_minor": 2
}
