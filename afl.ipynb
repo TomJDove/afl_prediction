{
 "cells": [
  {
   "cell_type": "code",
   "execution_count": 5,
   "metadata": {},
   "outputs": [],
   "source": [
    "# Load Data\n",
    "import pandas as pd\n",
    "afl_df = pd.read_csv('afl_stats2.csv')\n",
    "afl_df = afl_df[afl_df['Winner'] != 'Draw']"
   ]
  },
  {
   "attachments": {},
   "cell_type": "markdown",
   "metadata": {},
   "source": [
    "## Data exploration"
   ]
  },
  {
   "cell_type": "code",
   "execution_count": 8,
   "metadata": {},
   "outputs": [
    {
     "data": {
      "text/html": [
       "<div>\n",
       "<style scoped>\n",
       "    .dataframe tbody tr th:only-of-type {\n",
       "        vertical-align: middle;\n",
       "    }\n",
       "\n",
       "    .dataframe tbody tr th {\n",
       "        vertical-align: top;\n",
       "    }\n",
       "\n",
       "    .dataframe thead th {\n",
       "        text-align: right;\n",
       "    }\n",
       "</style>\n",
       "<table border=\"1\" class=\"dataframe\">\n",
       "  <thead>\n",
       "    <tr style=\"text-align: right;\">\n",
       "      <th></th>\n",
       "      <th>Game</th>\n",
       "      <th>Season</th>\n",
       "      <th>Date</th>\n",
       "      <th>Round</th>\n",
       "      <th>HomeTeam</th>\n",
       "      <th>AwayTeam</th>\n",
       "      <th>Winner</th>\n",
       "      <th>SeasonPointsBy</th>\n",
       "      <th>SeasonPointsAgainst</th>\n",
       "      <th>SeasonPerformance</th>\n",
       "      <th>...</th>\n",
       "      <th>Performance_Last_2</th>\n",
       "      <th>PointsBy_Last_3</th>\n",
       "      <th>PointsAgainst_Last_3</th>\n",
       "      <th>Performance_Last_3</th>\n",
       "      <th>PointsBy_Last_4</th>\n",
       "      <th>PointsAgainst_Last_4</th>\n",
       "      <th>Performance_Last_4</th>\n",
       "      <th>PointsBy_Last_5</th>\n",
       "      <th>PointsAgainst_Last_5</th>\n",
       "      <th>Performance_Last_5</th>\n",
       "    </tr>\n",
       "  </thead>\n",
       "  <tbody>\n",
       "    <tr>\n",
       "      <th>0</th>\n",
       "      <td>11728</td>\n",
       "      <td>2000</td>\n",
       "      <td>2000-03-08</td>\n",
       "      <td>R1</td>\n",
       "      <td>Richmond</td>\n",
       "      <td>Melbourne</td>\n",
       "      <td>Home</td>\n",
       "      <td>0.0</td>\n",
       "      <td>0.0</td>\n",
       "      <td>0.0</td>\n",
       "      <td>...</td>\n",
       "      <td>NaN</td>\n",
       "      <td>NaN</td>\n",
       "      <td>NaN</td>\n",
       "      <td>NaN</td>\n",
       "      <td>NaN</td>\n",
       "      <td>NaN</td>\n",
       "      <td>NaN</td>\n",
       "      <td>NaN</td>\n",
       "      <td>NaN</td>\n",
       "      <td>NaN</td>\n",
       "    </tr>\n",
       "    <tr>\n",
       "      <th>1</th>\n",
       "      <td>11729</td>\n",
       "      <td>2000</td>\n",
       "      <td>2000-03-09</td>\n",
       "      <td>R1</td>\n",
       "      <td>Essendon</td>\n",
       "      <td>Port Adelaide</td>\n",
       "      <td>Home</td>\n",
       "      <td>0.0</td>\n",
       "      <td>0.0</td>\n",
       "      <td>0.0</td>\n",
       "      <td>...</td>\n",
       "      <td>NaN</td>\n",
       "      <td>NaN</td>\n",
       "      <td>NaN</td>\n",
       "      <td>NaN</td>\n",
       "      <td>NaN</td>\n",
       "      <td>NaN</td>\n",
       "      <td>NaN</td>\n",
       "      <td>NaN</td>\n",
       "      <td>NaN</td>\n",
       "      <td>NaN</td>\n",
       "    </tr>\n",
       "    <tr>\n",
       "      <th>2</th>\n",
       "      <td>11730</td>\n",
       "      <td>2000</td>\n",
       "      <td>2000-03-10</td>\n",
       "      <td>R1</td>\n",
       "      <td>North Melbourne</td>\n",
       "      <td>West Coast</td>\n",
       "      <td>Away</td>\n",
       "      <td>0.0</td>\n",
       "      <td>0.0</td>\n",
       "      <td>0.0</td>\n",
       "      <td>...</td>\n",
       "      <td>NaN</td>\n",
       "      <td>NaN</td>\n",
       "      <td>NaN</td>\n",
       "      <td>NaN</td>\n",
       "      <td>NaN</td>\n",
       "      <td>NaN</td>\n",
       "      <td>NaN</td>\n",
       "      <td>NaN</td>\n",
       "      <td>NaN</td>\n",
       "      <td>NaN</td>\n",
       "    </tr>\n",
       "    <tr>\n",
       "      <th>3</th>\n",
       "      <td>11731</td>\n",
       "      <td>2000</td>\n",
       "      <td>2000-03-11</td>\n",
       "      <td>R1</td>\n",
       "      <td>Adelaide</td>\n",
       "      <td>Geelong</td>\n",
       "      <td>Away</td>\n",
       "      <td>0.0</td>\n",
       "      <td>0.0</td>\n",
       "      <td>0.0</td>\n",
       "      <td>...</td>\n",
       "      <td>NaN</td>\n",
       "      <td>NaN</td>\n",
       "      <td>NaN</td>\n",
       "      <td>NaN</td>\n",
       "      <td>NaN</td>\n",
       "      <td>NaN</td>\n",
       "      <td>NaN</td>\n",
       "      <td>NaN</td>\n",
       "      <td>NaN</td>\n",
       "      <td>NaN</td>\n",
       "    </tr>\n",
       "    <tr>\n",
       "      <th>4</th>\n",
       "      <td>11732</td>\n",
       "      <td>2000</td>\n",
       "      <td>2000-03-11</td>\n",
       "      <td>R1</td>\n",
       "      <td>Fremantle</td>\n",
       "      <td>Footscray</td>\n",
       "      <td>Away</td>\n",
       "      <td>0.0</td>\n",
       "      <td>0.0</td>\n",
       "      <td>0.0</td>\n",
       "      <td>...</td>\n",
       "      <td>NaN</td>\n",
       "      <td>NaN</td>\n",
       "      <td>NaN</td>\n",
       "      <td>NaN</td>\n",
       "      <td>NaN</td>\n",
       "      <td>NaN</td>\n",
       "      <td>NaN</td>\n",
       "      <td>NaN</td>\n",
       "      <td>NaN</td>\n",
       "      <td>NaN</td>\n",
       "    </tr>\n",
       "  </tbody>\n",
       "</table>\n",
       "<p>5 rows × 26 columns</p>\n",
       "</div>"
      ],
      "text/plain": [
       "    Game  Season        Date Round         HomeTeam       AwayTeam Winner  \\\n",
       "0  11728    2000  2000-03-08    R1         Richmond      Melbourne   Home   \n",
       "1  11729    2000  2000-03-09    R1         Essendon  Port Adelaide   Home   \n",
       "2  11730    2000  2000-03-10    R1  North Melbourne     West Coast   Away   \n",
       "3  11731    2000  2000-03-11    R1         Adelaide        Geelong   Away   \n",
       "4  11732    2000  2000-03-11    R1        Fremantle      Footscray   Away   \n",
       "\n",
       "   SeasonPointsBy  SeasonPointsAgainst  SeasonPerformance  ...  \\\n",
       "0             0.0                  0.0                0.0  ...   \n",
       "1             0.0                  0.0                0.0  ...   \n",
       "2             0.0                  0.0                0.0  ...   \n",
       "3             0.0                  0.0                0.0  ...   \n",
       "4             0.0                  0.0                0.0  ...   \n",
       "\n",
       "   Performance_Last_2  PointsBy_Last_3  PointsAgainst_Last_3  \\\n",
       "0                 NaN              NaN                   NaN   \n",
       "1                 NaN              NaN                   NaN   \n",
       "2                 NaN              NaN                   NaN   \n",
       "3                 NaN              NaN                   NaN   \n",
       "4                 NaN              NaN                   NaN   \n",
       "\n",
       "   Performance_Last_3  PointsBy_Last_4  PointsAgainst_Last_4  \\\n",
       "0                 NaN              NaN                   NaN   \n",
       "1                 NaN              NaN                   NaN   \n",
       "2                 NaN              NaN                   NaN   \n",
       "3                 NaN              NaN                   NaN   \n",
       "4                 NaN              NaN                   NaN   \n",
       "\n",
       "   Performance_Last_4  PointsBy_Last_5  PointsAgainst_Last_5  \\\n",
       "0                 NaN              NaN                   NaN   \n",
       "1                 NaN              NaN                   NaN   \n",
       "2                 NaN              NaN                   NaN   \n",
       "3                 NaN              NaN                   NaN   \n",
       "4                 NaN              NaN                   NaN   \n",
       "\n",
       "   Performance_Last_5  \n",
       "0                 NaN  \n",
       "1                 NaN  \n",
       "2                 NaN  \n",
       "3                 NaN  \n",
       "4                 NaN  \n",
       "\n",
       "[5 rows x 26 columns]"
      ]
     },
     "execution_count": 8,
     "metadata": {},
     "output_type": "execute_result"
    }
   ],
   "source": [
    "afl_df.head()"
   ]
  },
  {
   "cell_type": "code",
   "execution_count": 9,
   "metadata": {},
   "outputs": [
    {
     "data": {
      "text/plain": [
       "(4425, 26)"
      ]
     },
     "execution_count": 9,
     "metadata": {},
     "output_type": "execute_result"
    }
   ],
   "source": [
    "afl_df.shape"
   ]
  },
  {
   "cell_type": "code",
   "execution_count": 10,
   "metadata": {},
   "outputs": [
    {
     "name": "stdout",
     "output_type": "stream",
     "text": [
      "<class 'pandas.core.frame.DataFrame'>\n",
      "Int64Index: 4425 entries, 0 to 4462\n",
      "Data columns (total 26 columns):\n",
      " #   Column                Non-Null Count  Dtype  \n",
      "---  ------                --------------  -----  \n",
      " 0   Game                  4425 non-null   int64  \n",
      " 1   Season                4425 non-null   int64  \n",
      " 2   Date                  4425 non-null   object \n",
      " 3   Round                 4425 non-null   object \n",
      " 4   HomeTeam              4425 non-null   object \n",
      " 5   AwayTeam              4425 non-null   object \n",
      " 6   Winner                4425 non-null   object \n",
      " 7   SeasonPointsBy        4425 non-null   float64\n",
      " 8   SeasonPointsAgainst   4425 non-null   float64\n",
      " 9   SeasonPerformance     4425 non-null   float64\n",
      " 10  Ranking               4425 non-null   float64\n",
      " 11  PointsBy_Last_1       4415 non-null   float64\n",
      " 12  PointsAgainst_Last_1  4415 non-null   float64\n",
      " 13  Performance_Last_1    4415 non-null   float64\n",
      " 14  PointsBy_Last_2       4415 non-null   float64\n",
      " 15  PointsAgainst_Last_2  4415 non-null   float64\n",
      " 16  Performance_Last_2    4415 non-null   float64\n",
      " 17  PointsBy_Last_3       4415 non-null   float64\n",
      " 18  PointsAgainst_Last_3  4415 non-null   float64\n",
      " 19  Performance_Last_3    4415 non-null   float64\n",
      " 20  PointsBy_Last_4       4415 non-null   float64\n",
      " 21  PointsAgainst_Last_4  4415 non-null   float64\n",
      " 22  Performance_Last_4    4415 non-null   float64\n",
      " 23  PointsBy_Last_5       4415 non-null   float64\n",
      " 24  PointsAgainst_Last_5  4415 non-null   float64\n",
      " 25  Performance_Last_5    4415 non-null   float64\n",
      "dtypes: float64(19), int64(2), object(5)\n",
      "memory usage: 933.4+ KB\n"
     ]
    }
   ],
   "source": [
    "afl_df.info()"
   ]
  },
  {
   "attachments": {},
   "cell_type": "markdown",
   "metadata": {},
   "source": [
    "There will be 8 missing values in each of the 'rolling average' statistics, because this cannot be calculated for the very first round.\n",
    "There are two additional missing values: this is because two new teams were added to the AFL.\n",
    "Gold Coast Suns were added in 2011 and Greater Western Sydney was added in 2012."
   ]
  },
  {
   "cell_type": "code",
   "execution_count": 12,
   "metadata": {},
   "outputs": [
    {
     "data": {
      "text/html": [
       "<div>\n",
       "<style scoped>\n",
       "    .dataframe tbody tr th:only-of-type {\n",
       "        vertical-align: middle;\n",
       "    }\n",
       "\n",
       "    .dataframe tbody tr th {\n",
       "        vertical-align: top;\n",
       "    }\n",
       "\n",
       "    .dataframe thead th {\n",
       "        text-align: right;\n",
       "    }\n",
       "</style>\n",
       "<table border=\"1\" class=\"dataframe\">\n",
       "  <thead>\n",
       "    <tr style=\"text-align: right;\">\n",
       "      <th></th>\n",
       "      <th>Game</th>\n",
       "      <th>Season</th>\n",
       "      <th>SeasonPointsBy</th>\n",
       "      <th>SeasonPointsAgainst</th>\n",
       "      <th>SeasonPerformance</th>\n",
       "      <th>Ranking</th>\n",
       "      <th>PointsBy_Last_1</th>\n",
       "      <th>PointsAgainst_Last_1</th>\n",
       "      <th>Performance_Last_1</th>\n",
       "      <th>PointsBy_Last_2</th>\n",
       "      <th>...</th>\n",
       "      <th>Performance_Last_2</th>\n",
       "      <th>PointsBy_Last_3</th>\n",
       "      <th>PointsAgainst_Last_3</th>\n",
       "      <th>Performance_Last_3</th>\n",
       "      <th>PointsBy_Last_4</th>\n",
       "      <th>PointsAgainst_Last_4</th>\n",
       "      <th>Performance_Last_4</th>\n",
       "      <th>PointsBy_Last_5</th>\n",
       "      <th>PointsAgainst_Last_5</th>\n",
       "      <th>Performance_Last_5</th>\n",
       "    </tr>\n",
       "  </thead>\n",
       "  <tbody>\n",
       "    <tr>\n",
       "      <th>count</th>\n",
       "      <td>4425.000000</td>\n",
       "      <td>4425.000000</td>\n",
       "      <td>4425.000000</td>\n",
       "      <td>4425.000000</td>\n",
       "      <td>4425.000000</td>\n",
       "      <td>4425.000000</td>\n",
       "      <td>4415.000000</td>\n",
       "      <td>4415.000000</td>\n",
       "      <td>4415.000000</td>\n",
       "      <td>4415.000000</td>\n",
       "      <td>...</td>\n",
       "      <td>4415.000000</td>\n",
       "      <td>4415.000000</td>\n",
       "      <td>4415.000000</td>\n",
       "      <td>4415.000000</td>\n",
       "      <td>4415.000000</td>\n",
       "      <td>4415.000000</td>\n",
       "      <td>4415.000000</td>\n",
       "      <td>4415.000000</td>\n",
       "      <td>4415.000000</td>\n",
       "      <td>4415.000000</td>\n",
       "    </tr>\n",
       "    <tr>\n",
       "      <th>mean</th>\n",
       "      <td>13959.683390</td>\n",
       "      <td>2011.237062</td>\n",
       "      <td>2.040452</td>\n",
       "      <td>-3.402486</td>\n",
       "      <td>0.070508</td>\n",
       "      <td>0.003842</td>\n",
       "      <td>-4.161042</td>\n",
       "      <td>3.477690</td>\n",
       "      <td>-0.145413</td>\n",
       "      <td>-1.584371</td>\n",
       "      <td>...</td>\n",
       "      <td>-0.047792</td>\n",
       "      <td>-1.306493</td>\n",
       "      <td>1.237637</td>\n",
       "      <td>-0.049830</td>\n",
       "      <td>-0.785428</td>\n",
       "      <td>0.567629</td>\n",
       "      <td>-0.024802</td>\n",
       "      <td>-0.710457</td>\n",
       "      <td>0.508932</td>\n",
       "      <td>-0.022288</td>\n",
       "    </tr>\n",
       "    <tr>\n",
       "      <th>std</th>\n",
       "      <td>1288.738096</td>\n",
       "      <td>6.603234</td>\n",
       "      <td>202.365851</td>\n",
       "      <td>208.685187</td>\n",
       "      <td>7.131071</td>\n",
       "      <td>2.801968</td>\n",
       "      <td>37.961462</td>\n",
       "      <td>37.783172</td>\n",
       "      <td>1.410576</td>\n",
       "      <td>28.463664</td>\n",
       "      <td>...</td>\n",
       "      <td>1.038554</td>\n",
       "      <td>24.552735</td>\n",
       "      <td>25.453474</td>\n",
       "      <td>0.896346</td>\n",
       "      <td>22.041580</td>\n",
       "      <td>23.316744</td>\n",
       "      <td>0.806170</td>\n",
       "      <td>20.421526</td>\n",
       "      <td>21.892228</td>\n",
       "      <td>0.744296</td>\n",
       "    </tr>\n",
       "    <tr>\n",
       "      <th>min</th>\n",
       "      <td>11728.000000</td>\n",
       "      <td>2000.000000</td>\n",
       "      <td>-990.000000</td>\n",
       "      <td>-1137.000000</td>\n",
       "      <td>-32.000000</td>\n",
       "      <td>-10.000000</td>\n",
       "      <td>-136.000000</td>\n",
       "      <td>-186.000000</td>\n",
       "      <td>-2.000000</td>\n",
       "      <td>-112.000000</td>\n",
       "      <td>...</td>\n",
       "      <td>-2.000000</td>\n",
       "      <td>-96.333333</td>\n",
       "      <td>-104.333333</td>\n",
       "      <td>-2.000000</td>\n",
       "      <td>-87.250000</td>\n",
       "      <td>-94.250000</td>\n",
       "      <td>-2.000000</td>\n",
       "      <td>-85.200000</td>\n",
       "      <td>-77.200000</td>\n",
       "      <td>-2.000000</td>\n",
       "    </tr>\n",
       "    <tr>\n",
       "      <th>25%</th>\n",
       "      <td>12842.000000</td>\n",
       "      <td>2006.000000</td>\n",
       "      <td>-100.000000</td>\n",
       "      <td>-100.000000</td>\n",
       "      <td>-4.000000</td>\n",
       "      <td>-2.000000</td>\n",
       "      <td>-29.000000</td>\n",
       "      <td>-21.000000</td>\n",
       "      <td>-2.000000</td>\n",
       "      <td>-20.250000</td>\n",
       "      <td>...</td>\n",
       "      <td>-1.000000</td>\n",
       "      <td>-17.666667</td>\n",
       "      <td>-15.333333</td>\n",
       "      <td>-0.666667</td>\n",
       "      <td>-15.250000</td>\n",
       "      <td>-14.250000</td>\n",
       "      <td>-0.500000</td>\n",
       "      <td>-14.400000</td>\n",
       "      <td>-13.600000</td>\n",
       "      <td>-0.400000</td>\n",
       "    </tr>\n",
       "    <tr>\n",
       "      <th>50%</th>\n",
       "      <td>13963.000000</td>\n",
       "      <td>2012.000000</td>\n",
       "      <td>0.000000</td>\n",
       "      <td>0.000000</td>\n",
       "      <td>0.000000</td>\n",
       "      <td>0.000000</td>\n",
       "      <td>-5.000000</td>\n",
       "      <td>3.000000</td>\n",
       "      <td>0.000000</td>\n",
       "      <td>-1.000000</td>\n",
       "      <td>...</td>\n",
       "      <td>0.000000</td>\n",
       "      <td>-1.333333</td>\n",
       "      <td>1.333333</td>\n",
       "      <td>0.000000</td>\n",
       "      <td>-0.750000</td>\n",
       "      <td>0.500000</td>\n",
       "      <td>0.000000</td>\n",
       "      <td>-0.600000</td>\n",
       "      <td>0.800000</td>\n",
       "      <td>0.000000</td>\n",
       "    </tr>\n",
       "    <tr>\n",
       "      <th>75%</th>\n",
       "      <td>15074.000000</td>\n",
       "      <td>2017.000000</td>\n",
       "      <td>98.000000</td>\n",
       "      <td>93.000000</td>\n",
       "      <td>4.000000</td>\n",
       "      <td>2.000000</td>\n",
       "      <td>21.000000</td>\n",
       "      <td>28.000000</td>\n",
       "      <td>0.000000</td>\n",
       "      <td>17.000000</td>\n",
       "      <td>...</td>\n",
       "      <td>1.000000</td>\n",
       "      <td>15.333333</td>\n",
       "      <td>17.666667</td>\n",
       "      <td>0.666667</td>\n",
       "      <td>14.000000</td>\n",
       "      <td>15.750000</td>\n",
       "      <td>0.500000</td>\n",
       "      <td>12.800000</td>\n",
       "      <td>14.400000</td>\n",
       "      <td>0.400000</td>\n",
       "    </tr>\n",
       "    <tr>\n",
       "      <th>max</th>\n",
       "      <td>16190.000000</td>\n",
       "      <td>2022.000000</td>\n",
       "      <td>1053.000000</td>\n",
       "      <td>1095.000000</td>\n",
       "      <td>36.000000</td>\n",
       "      <td>10.000000</td>\n",
       "      <td>186.000000</td>\n",
       "      <td>130.000000</td>\n",
       "      <td>2.000000</td>\n",
       "      <td>110.500000</td>\n",
       "      <td>...</td>\n",
       "      <td>2.000000</td>\n",
       "      <td>80.333333</td>\n",
       "      <td>98.333333</td>\n",
       "      <td>2.000000</td>\n",
       "      <td>72.500000</td>\n",
       "      <td>97.250000</td>\n",
       "      <td>2.000000</td>\n",
       "      <td>80.600000</td>\n",
       "      <td>90.000000</td>\n",
       "      <td>2.000000</td>\n",
       "    </tr>\n",
       "  </tbody>\n",
       "</table>\n",
       "<p>8 rows × 21 columns</p>\n",
       "</div>"
      ],
      "text/plain": [
       "               Game       Season  SeasonPointsBy  SeasonPointsAgainst  \\\n",
       "count   4425.000000  4425.000000     4425.000000          4425.000000   \n",
       "mean   13959.683390  2011.237062        2.040452            -3.402486   \n",
       "std     1288.738096     6.603234      202.365851           208.685187   \n",
       "min    11728.000000  2000.000000     -990.000000         -1137.000000   \n",
       "25%    12842.000000  2006.000000     -100.000000          -100.000000   \n",
       "50%    13963.000000  2012.000000        0.000000             0.000000   \n",
       "75%    15074.000000  2017.000000       98.000000            93.000000   \n",
       "max    16190.000000  2022.000000     1053.000000          1095.000000   \n",
       "\n",
       "       SeasonPerformance      Ranking  PointsBy_Last_1  PointsAgainst_Last_1  \\\n",
       "count        4425.000000  4425.000000      4415.000000           4415.000000   \n",
       "mean            0.070508     0.003842        -4.161042              3.477690   \n",
       "std             7.131071     2.801968        37.961462             37.783172   \n",
       "min           -32.000000   -10.000000      -136.000000           -186.000000   \n",
       "25%            -4.000000    -2.000000       -29.000000            -21.000000   \n",
       "50%             0.000000     0.000000        -5.000000              3.000000   \n",
       "75%             4.000000     2.000000        21.000000             28.000000   \n",
       "max            36.000000    10.000000       186.000000            130.000000   \n",
       "\n",
       "       Performance_Last_1  PointsBy_Last_2  ...  Performance_Last_2  \\\n",
       "count         4415.000000      4415.000000  ...         4415.000000   \n",
       "mean            -0.145413        -1.584371  ...           -0.047792   \n",
       "std              1.410576        28.463664  ...            1.038554   \n",
       "min             -2.000000      -112.000000  ...           -2.000000   \n",
       "25%             -2.000000       -20.250000  ...           -1.000000   \n",
       "50%              0.000000        -1.000000  ...            0.000000   \n",
       "75%              0.000000        17.000000  ...            1.000000   \n",
       "max              2.000000       110.500000  ...            2.000000   \n",
       "\n",
       "       PointsBy_Last_3  PointsAgainst_Last_3  Performance_Last_3  \\\n",
       "count      4415.000000           4415.000000         4415.000000   \n",
       "mean         -1.306493              1.237637           -0.049830   \n",
       "std          24.552735             25.453474            0.896346   \n",
       "min         -96.333333           -104.333333           -2.000000   \n",
       "25%         -17.666667            -15.333333           -0.666667   \n",
       "50%          -1.333333              1.333333            0.000000   \n",
       "75%          15.333333             17.666667            0.666667   \n",
       "max          80.333333             98.333333            2.000000   \n",
       "\n",
       "       PointsBy_Last_4  PointsAgainst_Last_4  Performance_Last_4  \\\n",
       "count      4415.000000           4415.000000         4415.000000   \n",
       "mean         -0.785428              0.567629           -0.024802   \n",
       "std          22.041580             23.316744            0.806170   \n",
       "min         -87.250000            -94.250000           -2.000000   \n",
       "25%         -15.250000            -14.250000           -0.500000   \n",
       "50%          -0.750000              0.500000            0.000000   \n",
       "75%          14.000000             15.750000            0.500000   \n",
       "max          72.500000             97.250000            2.000000   \n",
       "\n",
       "       PointsBy_Last_5  PointsAgainst_Last_5  Performance_Last_5  \n",
       "count      4415.000000           4415.000000         4415.000000  \n",
       "mean         -0.710457              0.508932           -0.022288  \n",
       "std          20.421526             21.892228            0.744296  \n",
       "min         -85.200000            -77.200000           -2.000000  \n",
       "25%         -14.400000            -13.600000           -0.400000  \n",
       "50%          -0.600000              0.800000            0.000000  \n",
       "75%          12.800000             14.400000            0.400000  \n",
       "max          80.600000             90.000000            2.000000  \n",
       "\n",
       "[8 rows x 21 columns]"
      ]
     },
     "execution_count": 12,
     "metadata": {},
     "output_type": "execute_result"
    }
   ],
   "source": [
    "afl_df.describe()"
   ]
  },
  {
   "cell_type": "code",
   "execution_count": 13,
   "metadata": {},
   "outputs": [
    {
     "data": {
      "image/png": "[encoded data removed]",
      "text/plain": [
       "<Figure size 2000x1500 with 25 Axes>"
      ]
     },
     "metadata": {},
     "output_type": "display_data"
    }
   ],
   "source": [
    "import matplotlib.pyplot as plt\n",
    "afl_df.hist(bins=50, figsize=(20,15))\n",
    "plt.show()"
   ]
  },
  {
   "attachments": {},
   "cell_type": "markdown",
   "metadata": {},
   "source": [
    "The variables are normally distributed. \n",
    "\n",
    "The seasonal points have higher values, because it's a cumulative sum and no average is taken.\n",
    "\n",
    "In 2020 we see the effect of COVID-19; less games were played that year."
   ]
  },
  {
   "attachments": {},
   "cell_type": "markdown",
   "metadata": {},
   "source": [
    "## Create training and test set"
   ]
  },
  {
   "cell_type": "code",
   "execution_count": 14,
   "metadata": {},
   "outputs": [],
   "source": [
    "# Create a training and test set.\n",
    "# Use games played before 2019 as the training set.\n",
    "train_set = afl_df[afl_df['Season'] < 2019]\n",
    "train_labels = train_set[\"Winner\"]\n",
    "test_set = afl_df[afl_df['Season'] >= 2019]"
   ]
  },
  {
   "attachments": {},
   "cell_type": "markdown",
   "metadata": {},
   "source": [
    "## Data preparation"
   ]
  },
  {
   "cell_type": "code",
   "execution_count": 18,
   "metadata": {},
   "outputs": [],
   "source": [
    "afl_features = train_set.drop(\"Winner\", axis = 1)"
   ]
  },
  {
   "cell_type": "code",
   "execution_count": 16,
   "metadata": {},
   "outputs": [],
   "source": [
    "from sklearn import set_config\n",
    "set_config(transform_output = \"pandas\")"
   ]
  },
  {
   "cell_type": "code",
   "execution_count": 21,
   "metadata": {},
   "outputs": [],
   "source": [
    "from sklearn.base import BaseEstimator, TransformerMixin\n",
    "\n",
    "# Indices are for after 'Winner' has been dropped\n",
    "game_ix, season_ix, date_ix, round_ix, hometeam_ix, awayteam_ix = 0, 1, 2, 3, 4, 5\n",
    "cols_to_drop = [game_ix, season_ix, date_ix, round_ix, hometeam_ix, awayteam_ix]\n",
    "\n",
    "class AFLDataPrepper(BaseEstimator, TransformerMixin):\n",
    "    def __init__(self, dropNA = True):\n",
    "        self.dropNA = dropNA\n",
    "\n",
    "    def fit(self, X, y=None):\n",
    "        return self\n",
    "\n",
    "    def transform(self, X, y=None):\n",
    "\n",
    "        # Convert date to datetime format\n",
    "        X[X.columns[date_ix]] = pd.to_datetime(X[X.columns[date_ix]])\n",
    "\n",
    "        # Only want to use features that we can know before the game is played\n",
    "        X = X.drop(X.columns[cols_to_drop], axis=1)\n",
    "\n",
    "        # Remove rows with missing values\n",
    "        if self.dropNA:\n",
    "            X = X.dropna()\n",
    "\n",
    "        return X    \n"
   ]
  },
  {
   "cell_type": "code",
   "execution_count": 22,
   "metadata": {},
   "outputs": [],
   "source": [
    "from sklearn.pipeline import Pipeline\n",
    "from sklearn.preprocessing import StandardScaler\n",
    "\n",
    "afl_pipeline = Pipeline([\n",
    "    ('afl_prepper', AFLDataPrepper()),\n",
    "    ('std_scaler', StandardScaler())\n",
    "])\n"
   ]
  },
  {
   "cell_type": "code",
   "execution_count": 23,
   "metadata": {},
   "outputs": [],
   "source": [
    "afl_prepared = afl_pipeline.fit_transform(afl_features)"
   ]
  },
  {
   "cell_type": "code",
   "execution_count": 24,
   "metadata": {},
   "outputs": [],
   "source": [
    "# Need to drop NA values before taking the labels\n",
    "train_labels = train_set.dropna()[\"Winner\"]"
   ]
  },
  {
   "attachments": {},
   "cell_type": "markdown",
   "metadata": {},
   "source": [
    "### Selecting and training a model"
   ]
  },
  {
   "cell_type": "code",
   "execution_count": 25,
   "metadata": {},
   "outputs": [],
   "source": [
    "from sklearn.metrics import make_scorer, accuracy_score, precision_score, recall_score\n",
    "from sklearn.model_selection import cross_val_score\n",
    "import numpy as np\n",
    "\n",
    "def evaluate_model(model, train, labels, k=3):\n",
    "    accuracy = cross_val_score(model, train, labels, cv=k, scoring = \"accuracy\")\n",
    "    print(\"Accuracy = {:0.2f}%\".format(np.mean(accuracy)*100))\n"
   ]
  },
  {
   "attachments": {},
   "cell_type": "markdown",
   "metadata": {},
   "source": [
    "#### Random Forest Classifier"
   ]
  },
  {
   "cell_type": "code",
   "execution_count": 16,
   "metadata": {},
   "outputs": [],
   "source": [
    "from sklearn.ensemble import RandomForestClassifier\n",
    "afl_rf = RandomForestClassifier()"
   ]
  },
  {
   "cell_type": "code",
   "execution_count": 17,
   "metadata": {},
   "outputs": [
    {
     "data": {
      "text/html": [
       "<style>#sk-container-id-1 {color: black;background-color: white;}#sk-container-id-1 pre{padding: 0;}#sk-container-id-1 div.sk-toggleable {background-color: white;}#sk-container-id-1 label.sk-toggleable__label {cursor: pointer;display: block;width: 100%;margin-bottom: 0;padding: 0.3em;box-sizing: border-box;text-align: center;}#sk-container-id-1 label.sk-toggleable__label-arrow:before {content: \"▸\";float: left;margin-right: 0.25em;color: #696969;}#sk-container-id-1 label.sk-toggleable__label-arrow:hover:before {color: black;}#sk-container-id-1 div.sk-estimator:hover label.sk-toggleable__label-arrow:before {color: black;}#sk-container-id-1 div.sk-toggleable__content {max-height: 0;max-width: 0;overflow: hidden;text-align: left;background-color: #f0f8ff;}#sk-container-id-1 div.sk-toggleable__content pre {margin: 0.2em;color: black;border-radius: 0.25em;background-color: #f0f8ff;}#sk-container-id-1 input.sk-toggleable__control:checked~div.sk-toggleable__content {max-height: 200px;max-width: 100%;overflow: auto;}#sk-container-id-1 input.sk-toggleable__control:checked~label.sk-toggleable__label-arrow:before {content: \"▾\";}#sk-container-id-1 div.sk-estimator input.sk-toggleable__control:checked~label.sk-toggleable__label {background-color: #d4ebff;}#sk-container-id-1 div.sk-label input.sk-toggleable__control:checked~label.sk-toggleable__label {background-color: #d4ebff;}#sk-container-id-1 input.sk-hidden--visually {border: 0;clip: rect(1px 1px 1px 1px);clip: rect(1px, 1px, 1px, 1px);height: 1px;margin: -1px;overflow: hidden;padding: 0;position: absolute;width: 1px;}#sk-container-id-1 div.sk-estimator {font-family: monospace;background-color: #f0f8ff;border: 1px dotted black;border-radius: 0.25em;box-sizing: border-box;margin-bottom: 0.5em;}#sk-container-id-1 div.sk-estimator:hover {background-color: #d4ebff;}#sk-container-id-1 div.sk-parallel-item::after {content: \"\";width: 100%;border-bottom: 1px solid gray;flex-grow: 1;}#sk-container-id-1 div.sk-label:hover label.sk-toggleable__label {background-color: #d4ebff;}#sk-container-id-1 div.sk-serial::before {content: \"\";position: absolute;border-left: 1px solid gray;box-sizing: border-box;top: 0;bottom: 0;left: 50%;z-index: 0;}#sk-container-id-1 div.sk-serial {display: flex;flex-direction: column;align-items: center;background-color: white;padding-right: 0.2em;padding-left: 0.2em;position: relative;}#sk-container-id-1 div.sk-item {position: relative;z-index: 1;}#sk-container-id-1 div.sk-parallel {display: flex;align-items: stretch;justify-content: center;background-color: white;position: relative;}#sk-container-id-1 div.sk-item::before, #sk-container-id-1 div.sk-parallel-item::before {content: \"\";position: absolute;border-left: 1px solid gray;box-sizing: border-box;top: 0;bottom: 0;left: 50%;z-index: -1;}#sk-container-id-1 div.sk-parallel-item {display: flex;flex-direction: column;z-index: 1;position: relative;background-color: white;}#sk-container-id-1 div.sk-parallel-item:first-child::after {align-self: flex-end;width: 50%;}#sk-container-id-1 div.sk-parallel-item:last-child::after {align-self: flex-start;width: 50%;}#sk-container-id-1 div.sk-parallel-item:only-child::after {width: 0;}#sk-container-id-1 div.sk-dashed-wrapped {border: 1px dashed gray;margin: 0 0.4em 0.5em 0.4em;box-sizing: border-box;padding-bottom: 0.4em;background-color: white;}#sk-container-id-1 div.sk-label label {font-family: monospace;font-weight: bold;display: inline-block;line-height: 1.2em;}#sk-container-id-1 div.sk-label-container {text-align: center;}#sk-container-id-1 div.sk-container {/* jupyter's `normalize.less` sets `[hidden] { display: none; }` but bootstrap.min.css set `[hidden] { display: none !important; }` so we also need the `!important` here to be able to override the default hidden behavior on the sphinx rendered scikit-learn.org. See: https://github.com/scikit-learn/scikit-learn/issues/21755 */display: inline-block !important;position: relative;}#sk-container-id-1 div.sk-text-repr-fallback {display: none;}</style><div id=\"sk-container-id-1\" class=\"sk-top-container\"><div class=\"sk-text-repr-fallback\"><pre>RandomForestClassifier()</pre><b>In a Jupyter environment, please rerun this cell to show the HTML representation or trust the notebook. <br />On GitHub, the HTML representation is unable to render, please try loading this page with nbviewer.org.</b></div><div class=\"sk-container\" hidden><div class=\"sk-item\"><div class=\"sk-estimator sk-toggleable\"><input class=\"sk-toggleable__control sk-hidden--visually\" id=\"sk-estimator-id-1\" type=\"checkbox\" checked><label for=\"sk-estimator-id-1\" class=\"sk-toggleable__label sk-toggleable__label-arrow\">RandomForestClassifier</label><div class=\"sk-toggleable__content\"><pre>RandomForestClassifier()</pre></div></div></div></div></div>"
      ],
      "text/plain": [
       "RandomForestClassifier()"
      ]
     },
     "execution_count": 17,
     "metadata": {},
     "output_type": "execute_result"
    }
   ],
   "source": [
    "afl_rf.fit(afl_prepared, train_labels)"
   ]
  },
  {
   "cell_type": "code",
   "execution_count": 18,
   "metadata": {},
   "outputs": [
    {
     "name": "stdout",
     "output_type": "stream",
     "text": [
      "Accuracy = 65.04%\n"
     ]
    }
   ],
   "source": [
    "evaluate_model(afl_rf, afl_prepared, train_labels)"
   ]
  },
  {
   "cell_type": "code",
   "execution_count": 21,
   "metadata": {},
   "outputs": [],
   "source": [
    "# Fine tune the parameters with a gridsearch or randomised grid search - but might need to take a smaller sample."
   ]
  },
  {
   "attachments": {},
   "cell_type": "markdown",
   "metadata": {},
   "source": [
    "#### Logistic Regression"
   ]
  },
  {
   "cell_type": "code",
   "execution_count": 22,
   "metadata": {},
   "outputs": [
    {
     "data": {
      "text/html": [
       "<style>#sk-container-id-3 {color: black;background-color: white;}#sk-container-id-3 pre{padding: 0;}#sk-container-id-3 div.sk-toggleable {background-color: white;}#sk-container-id-3 label.sk-toggleable__label {cursor: pointer;display: block;width: 100%;margin-bottom: 0;padding: 0.3em;box-sizing: border-box;text-align: center;}#sk-container-id-3 label.sk-toggleable__label-arrow:before {content: \"▸\";float: left;margin-right: 0.25em;color: #696969;}#sk-container-id-3 label.sk-toggleable__label-arrow:hover:before {color: black;}#sk-container-id-3 div.sk-estimator:hover label.sk-toggleable__label-arrow:before {color: black;}#sk-container-id-3 div.sk-toggleable__content {max-height: 0;max-width: 0;overflow: hidden;text-align: left;background-color: #f0f8ff;}#sk-container-id-3 div.sk-toggleable__content pre {margin: 0.2em;color: black;border-radius: 0.25em;background-color: #f0f8ff;}#sk-container-id-3 input.sk-toggleable__control:checked~div.sk-toggleable__content {max-height: 200px;max-width: 100%;overflow: auto;}#sk-container-id-3 input.sk-toggleable__control:checked~label.sk-toggleable__label-arrow:before {content: \"▾\";}#sk-container-id-3 div.sk-estimator input.sk-toggleable__control:checked~label.sk-toggleable__label {background-color: #d4ebff;}#sk-container-id-3 div.sk-label input.sk-toggleable__control:checked~label.sk-toggleable__label {background-color: #d4ebff;}#sk-container-id-3 input.sk-hidden--visually {border: 0;clip: rect(1px 1px 1px 1px);clip: rect(1px, 1px, 1px, 1px);height: 1px;margin: -1px;overflow: hidden;padding: 0;position: absolute;width: 1px;}#sk-container-id-3 div.sk-estimator {font-family: monospace;background-color: #f0f8ff;border: 1px dotted black;border-radius: 0.25em;box-sizing: border-box;margin-bottom: 0.5em;}#sk-container-id-3 div.sk-estimator:hover {background-color: #d4ebff;}#sk-container-id-3 div.sk-parallel-item::after {content: \"\";width: 100%;border-bottom: 1px solid gray;flex-grow: 1;}#sk-container-id-3 div.sk-label:hover label.sk-toggleable__label {background-color: #d4ebff;}#sk-container-id-3 div.sk-serial::before {content: \"\";position: absolute;border-left: 1px solid gray;box-sizing: border-box;top: 0;bottom: 0;left: 50%;z-index: 0;}#sk-container-id-3 div.sk-serial {display: flex;flex-direction: column;align-items: center;background-color: white;padding-right: 0.2em;padding-left: 0.2em;position: relative;}#sk-container-id-3 div.sk-item {position: relative;z-index: 1;}#sk-container-id-3 div.sk-parallel {display: flex;align-items: stretch;justify-content: center;background-color: white;position: relative;}#sk-container-id-3 div.sk-item::before, #sk-container-id-3 div.sk-parallel-item::before {content: \"\";position: absolute;border-left: 1px solid gray;box-sizing: border-box;top: 0;bottom: 0;left: 50%;z-index: -1;}#sk-container-id-3 div.sk-parallel-item {display: flex;flex-direction: column;z-index: 1;position: relative;background-color: white;}#sk-container-id-3 div.sk-parallel-item:first-child::after {align-self: flex-end;width: 50%;}#sk-container-id-3 div.sk-parallel-item:last-child::after {align-self: flex-start;width: 50%;}#sk-container-id-3 div.sk-parallel-item:only-child::after {width: 0;}#sk-container-id-3 div.sk-dashed-wrapped {border: 1px dashed gray;margin: 0 0.4em 0.5em 0.4em;box-sizing: border-box;padding-bottom: 0.4em;background-color: white;}#sk-container-id-3 div.sk-label label {font-family: monospace;font-weight: bold;display: inline-block;line-height: 1.2em;}#sk-container-id-3 div.sk-label-container {text-align: center;}#sk-container-id-3 div.sk-container {/* jupyter's `normalize.less` sets `[hidden] { display: none; }` but bootstrap.min.css set `[hidden] { display: none !important; }` so we also need the `!important` here to be able to override the default hidden behavior on the sphinx rendered scikit-learn.org. See: https://github.com/scikit-learn/scikit-learn/issues/21755 */display: inline-block !important;position: relative;}#sk-container-id-3 div.sk-text-repr-fallback {display: none;}</style><div id=\"sk-container-id-3\" class=\"sk-top-container\"><div class=\"sk-text-repr-fallback\"><pre>LogisticRegression(max_iter=500)</pre><b>In a Jupyter environment, please rerun this cell to show the HTML representation or trust the notebook. <br />On GitHub, the HTML representation is unable to render, please try loading this page with nbviewer.org.</b></div><div class=\"sk-container\" hidden><div class=\"sk-item\"><div class=\"sk-estimator sk-toggleable\"><input class=\"sk-toggleable__control sk-hidden--visually\" id=\"sk-estimator-id-3\" type=\"checkbox\" checked><label for=\"sk-estimator-id-3\" class=\"sk-toggleable__label sk-toggleable__label-arrow\">LogisticRegression</label><div class=\"sk-toggleable__content\"><pre>LogisticRegression(max_iter=500)</pre></div></div></div></div></div>"
      ],
      "text/plain": [
       "LogisticRegression(max_iter=500)"
      ]
     },
     "execution_count": 22,
     "metadata": {},
     "output_type": "execute_result"
    }
   ],
   "source": [
    "from sklearn.linear_model import LogisticRegression\n",
    "\n",
    "log_reg = LogisticRegression(max_iter=500)\n",
    "log_reg.fit(afl_prepared, train_labels)"
   ]
  },
  {
   "cell_type": "code",
   "execution_count": 23,
   "metadata": {},
   "outputs": [
    {
     "name": "stdout",
     "output_type": "stream",
     "text": [
      "Accuracy = 65.17%\n"
     ]
    }
   ],
   "source": [
    "evaluate_model(log_reg, afl_prepared, train_labels)"
   ]
  },
  {
   "attachments": {},
   "cell_type": "markdown",
   "metadata": {},
   "source": [
    "So, out of the box this seems to at least do as well as the random forest classifier."
   ]
  },
  {
   "attachments": {},
   "cell_type": "markdown",
   "metadata": {},
   "source": [
    "#### Support Vector Machine"
   ]
  },
  {
   "cell_type": "code",
   "execution_count": 24,
   "metadata": {},
   "outputs": [],
   "source": [
    "from sklearn.svm import LinearSVC\n",
    "linearSVC = LinearSVC(C=0.001, loss='hinge')"
   ]
  },
  {
   "cell_type": "code",
   "execution_count": 25,
   "metadata": {},
   "outputs": [
    {
     "name": "stdout",
     "output_type": "stream",
     "text": [
      "Accuracy = 65.92%\n"
     ]
    }
   ],
   "source": [
    "evaluate_model(linearSVC, afl_prepared, train_labels)"
   ]
  },
  {
   "cell_type": "code",
   "execution_count": 26,
   "metadata": {},
   "outputs": [
    {
     "name": "stdout",
     "output_type": "stream",
     "text": [
      "Accuracy = 58.05%\n"
     ]
    }
   ],
   "source": [
    "# Polynomial SVM\n",
    "from sklearn.svm import SVC\n",
    "poly_svm = SVC(kernel = \"poly\", degree=3, C=0.0001)\n",
    "evaluate_model(poly_svm, afl_prepared, train_labels)"
   ]
  },
  {
   "attachments": {},
   "cell_type": "markdown",
   "metadata": {},
   "source": [
    "So higher degree polynomials don't appear to do a better job."
   ]
  },
  {
   "attachments": {},
   "cell_type": "markdown",
   "metadata": {},
   "source": [
    "#### Neural networks"
   ]
  },
  {
   "cell_type": "code",
   "execution_count": 140,
   "metadata": {},
   "outputs": [],
   "source": [
    "import tensorflow as tf \n",
    "from tensorflow import keras\n"
   ]
  },
  {
   "cell_type": "code",
   "execution_count": 141,
   "metadata": {},
   "outputs": [],
   "source": [
    "model = keras.Sequential([\n",
    "    keras.layers.Dense(30, activation='relu'),\n",
    "    keras.layers.Dense(30, activation='relu'),\n",
    "    keras.layers.Dense(1, activation='sigmoid')\n",
    "])\n",
    "\n",
    "model.compile(\n",
    "    loss=keras.losses.binary_crossentropy,\n",
    "    optimizer=keras.optimizers.Adam(learning_rate=0.03),\n",
    "    metrics=[\n",
    "        keras.metrics.BinaryAccuracy(name='accuracy'),\n",
    "    ]\n",
    ")"
   ]
  },
  {
   "cell_type": "code",
   "execution_count": 97,
   "metadata": {},
   "outputs": [],
   "source": [
    "bin_labels = (train_labels == \"Home\").astype('int')"
   ]
  },
  {
   "cell_type": "code",
   "execution_count": 142,
   "metadata": {},
   "outputs": [],
   "source": [
    "early_stopping_cb = keras.callbacks.EarlyStopping(patience=10, restore_best_weights=True)"
   ]
  },
  {
   "cell_type": "code",
   "execution_count": 147,
   "metadata": {},
   "outputs": [
    {
     "name": "stdout",
     "output_type": "stream",
     "text": [
      "Epoch 1/100\n"
     ]
    },
    {
     "name": "stderr",
     "output_type": "stream",
     "text": [
      "C:\\Users\\tomdo\\AppData\\Local\\Packages\\PythonSoftwareFoundation.Python.3.8_qbz5n2kfra8p0\\LocalCache\\local-packages\\Python38\\site-packages\\keras\\engine\\data_adapter.py:1700: FutureWarning: The behavior of `series[i:j]` with an integer-dtype index is deprecated. In a future version, this will be treated as *label-based* indexing, consistent with e.g. `series[i]` lookups. To retain the old behavior, use `series.iloc[i:j]`. To get the future behavior, use `series.loc[i:j]`.\n",
      "  return t[start:end]\n"
     ]
    },
    {
     "name": "stdout",
     "output_type": "stream",
     "text": [
      "91/91 [==============================] - 1s 4ms/step - loss: 0.5912 - accuracy: 0.6818 - val_loss: 0.6520 - val_accuracy: 0.6538\n",
      "Epoch 2/100\n",
      "91/91 [==============================] - 0s 2ms/step - loss: 0.5862 - accuracy: 0.6955 - val_loss: 0.6588 - val_accuracy: 0.6456\n",
      "Epoch 3/100\n",
      "91/91 [==============================] - 0s 2ms/step - loss: 0.5888 - accuracy: 0.6883 - val_loss: 0.6290 - val_accuracy: 0.6484\n",
      "Epoch 4/100\n",
      "91/91 [==============================] - 0s 2ms/step - loss: 0.5906 - accuracy: 0.6670 - val_loss: 0.6318 - val_accuracy: 0.6566\n",
      "Epoch 5/100\n",
      "91/91 [==============================] - 0s 3ms/step - loss: 0.5788 - accuracy: 0.6900 - val_loss: 0.6400 - val_accuracy: 0.6374\n",
      "Epoch 6/100\n",
      "91/91 [==============================] - 0s 3ms/step - loss: 0.5805 - accuracy: 0.6997 - val_loss: 0.6270 - val_accuracy: 0.6264\n",
      "Epoch 7/100\n",
      "91/91 [==============================] - 0s 3ms/step - loss: 0.5812 - accuracy: 0.6959 - val_loss: 0.6344 - val_accuracy: 0.6456\n",
      "Epoch 8/100\n",
      "91/91 [==============================] - 0s 3ms/step - loss: 0.5804 - accuracy: 0.6945 - val_loss: 0.6386 - val_accuracy: 0.6497\n",
      "Epoch 9/100\n",
      "91/91 [==============================] - 0s 2ms/step - loss: 0.5747 - accuracy: 0.6955 - val_loss: 0.6335 - val_accuracy: 0.6346\n",
      "Epoch 10/100\n",
      "91/91 [==============================] - 0s 3ms/step - loss: 0.5702 - accuracy: 0.7038 - val_loss: 0.6205 - val_accuracy: 0.6538\n",
      "Epoch 11/100\n",
      "91/91 [==============================] - 0s 3ms/step - loss: 0.5702 - accuracy: 0.7027 - val_loss: 0.6273 - val_accuracy: 0.6346\n",
      "Epoch 12/100\n",
      "91/91 [==============================] - 0s 3ms/step - loss: 0.5647 - accuracy: 0.6990 - val_loss: 0.6875 - val_accuracy: 0.6387\n",
      "Epoch 13/100\n",
      "91/91 [==============================] - 0s 3ms/step - loss: 0.5711 - accuracy: 0.7107 - val_loss: 0.6316 - val_accuracy: 0.6401\n",
      "Epoch 14/100\n",
      "91/91 [==============================] - 0s 3ms/step - loss: 0.5531 - accuracy: 0.7141 - val_loss: 0.6369 - val_accuracy: 0.6360\n",
      "Epoch 15/100\n",
      "91/91 [==============================] - 0s 3ms/step - loss: 0.5614 - accuracy: 0.7041 - val_loss: 0.6781 - val_accuracy: 0.6346\n",
      "Epoch 16/100\n",
      "91/91 [==============================] - 0s 3ms/step - loss: 0.5620 - accuracy: 0.7048 - val_loss: 0.6824 - val_accuracy: 0.6415\n",
      "Epoch 17/100\n",
      "91/91 [==============================] - 0s 3ms/step - loss: 0.5757 - accuracy: 0.7079 - val_loss: 0.6488 - val_accuracy: 0.6154\n",
      "Epoch 18/100\n",
      "91/91 [==============================] - 0s 2ms/step - loss: 0.5477 - accuracy: 0.7213 - val_loss: 0.6914 - val_accuracy: 0.6497\n",
      "Epoch 19/100\n",
      "91/91 [==============================] - 0s 3ms/step - loss: 0.5502 - accuracy: 0.7086 - val_loss: 0.7520 - val_accuracy: 0.6332\n",
      "Epoch 20/100\n",
      "91/91 [==============================] - 0s 2ms/step - loss: 0.5415 - accuracy: 0.7141 - val_loss: 0.7265 - val_accuracy: 0.6209\n"
     ]
    }
   ],
   "source": [
    "tf.random.set_seed(42)\n",
    "history = model.fit(afl_prepared, bin_labels, epochs=100, validation_split=0.2, callbacks=[early_stopping_cb])"
   ]
  },
  {
   "cell_type": "code",
   "execution_count": 148,
   "metadata": {},
   "outputs": [
    {
     "data": {
      "image/png": "[encoded data removed]",
      "text/plain": [
       "<Figure size 800x500 with 1 Axes>"
      ]
     },
     "metadata": {},
     "output_type": "display_data"
    }
   ],
   "source": [
    "pd.DataFrame(history.history).plot(figsize=(8, 5))\n",
    "plt.grid(True)\n",
    "plt.gca().set_ylim(0, 1) # set the vertical range to [0-1]\n",
    "plt.show()"
   ]
  },
  {
   "cell_type": "code",
   "execution_count": 188,
   "metadata": {},
   "outputs": [],
   "source": [
    "def build_model(n_hidden=1, n_neurons=30, learning_rate=3e-3):\n",
    "    model = keras.models.Sequential()\n",
    "    model.add(keras.layers.Input(shape=(38,)))\n",
    "    for layer in range(n_hidden):\n",
    "        model.add(keras.layers.Dense(n_neurons, activation=\"relu\"))\n",
    "    model.add(keras.layers.Dense(1, activation=\"sigmoid\"))\n",
    "    optimizer = keras.optimizers.Adam(learning_rate)\n",
    "    model.compile(loss=keras.losses.binary_crossentropy, optimizer=optimizer)\n",
    "    return model"
   ]
  },
  {
   "cell_type": "code",
   "execution_count": 193,
   "metadata": {},
   "outputs": [],
   "source": [
    "from scikeras.wrappers import KerasClassifier\n",
    "\n",
    "keras_clf = KerasClassifier(\n",
    "    model=build_model,\n",
    "    n_hidden=1,\n",
    "    n_neurons=30,\n",
    "    learning_rate = 3e-3\n",
    ")"
   ]
  },
  {
   "cell_type": "code",
   "execution_count": 223,
   "metadata": {},
   "outputs": [
    {
     "name": "stdout",
     "output_type": "stream",
     "text": [
      "38/38 [==============================] - 0s 1ms/step\n",
      "38/38 [==============================] - 0s 2ms/step\n",
      "38/38 [==============================] - 0s 2ms/step\n",
      "38/38 [==============================] - 0s 4ms/step\n",
      "38/38 [==============================] - 0s 2ms/step\n",
      "38/38 [==============================] - 0s 1ms/step\n",
      "38/38 [==============================] - 0s 1ms/step\n",
      "38/38 [==============================] - 0s 2ms/step\n",
      "38/38 [==============================] - 0s 2ms/step\n",
      "38/38 [==============================] - 0s 2ms/step\n",
      "38/38 [==============================] - 0s 1ms/step\n",
      "38/38 [==============================] - 0s 1ms/step\n",
      "38/38 [==============================] - 0s 2ms/step\n",
      "38/38 [==============================] - 0s 1ms/step\n",
      "38/38 [==============================] - 0s 1ms/step\n",
      "38/38 [==============================] - 0s 1ms/step\n",
      "38/38 [==============================] - 0s 962us/step\n",
      "38/38 [==============================] - 0s 1ms/step\n",
      "38/38 [==============================] - 0s 2ms/step\n",
      "38/38 [==============================] - 0s 2ms/step\n",
      "38/38 [==============================] - 0s 2ms/step\n",
      "38/38 [==============================] - 0s 2ms/step\n",
      "38/38 [==============================] - 0s 1ms/step\n",
      "38/38 [==============================] - 0s 1ms/step\n",
      "38/38 [==============================] - 0s 1ms/step\n",
      "38/38 [==============================] - 0s 1ms/step\n",
      "38/38 [==============================] - 0s 1ms/step\n",
      "38/38 [==============================] - 0s 2ms/step\n",
      "38/38 [==============================] - 0s 2ms/step\n",
      "38/38 [==============================] - 0s 2ms/step\n"
     ]
    },
    {
     "data": {
      "text/html": [
       "<style>#sk-container-id-12 {color: black;background-color: white;}#sk-container-id-12 pre{padding: 0;}#sk-container-id-12 div.sk-toggleable {background-color: white;}#sk-container-id-12 label.sk-toggleable__label {cursor: pointer;display: block;width: 100%;margin-bottom: 0;padding: 0.3em;box-sizing: border-box;text-align: center;}#sk-container-id-12 label.sk-toggleable__label-arrow:before {content: \"▸\";float: left;margin-right: 0.25em;color: #696969;}#sk-container-id-12 label.sk-toggleable__label-arrow:hover:before {color: black;}#sk-container-id-12 div.sk-estimator:hover label.sk-toggleable__label-arrow:before {color: black;}#sk-container-id-12 div.sk-toggleable__content {max-height: 0;max-width: 0;overflow: hidden;text-align: left;background-color: #f0f8ff;}#sk-container-id-12 div.sk-toggleable__content pre {margin: 0.2em;color: black;border-radius: 0.25em;background-color: #f0f8ff;}#sk-container-id-12 input.sk-toggleable__control:checked~div.sk-toggleable__content {max-height: 200px;max-width: 100%;overflow: auto;}#sk-container-id-12 input.sk-toggleable__control:checked~label.sk-toggleable__label-arrow:before {content: \"▾\";}#sk-container-id-12 div.sk-estimator input.sk-toggleable__control:checked~label.sk-toggleable__label {background-color: #d4ebff;}#sk-container-id-12 div.sk-label input.sk-toggleable__control:checked~label.sk-toggleable__label {background-color: #d4ebff;}#sk-container-id-12 input.sk-hidden--visually {border: 0;clip: rect(1px 1px 1px 1px);clip: rect(1px, 1px, 1px, 1px);height: 1px;margin: -1px;overflow: hidden;padding: 0;position: absolute;width: 1px;}#sk-container-id-12 div.sk-estimator {font-family: monospace;background-color: #f0f8ff;border: 1px dotted black;border-radius: 0.25em;box-sizing: border-box;margin-bottom: 0.5em;}#sk-container-id-12 div.sk-estimator:hover {background-color: #d4ebff;}#sk-container-id-12 div.sk-parallel-item::after {content: \"\";width: 100%;border-bottom: 1px solid gray;flex-grow: 1;}#sk-container-id-12 div.sk-label:hover label.sk-toggleable__label {background-color: #d4ebff;}#sk-container-id-12 div.sk-serial::before {content: \"\";position: absolute;border-left: 1px solid gray;box-sizing: border-box;top: 0;bottom: 0;left: 50%;z-index: 0;}#sk-container-id-12 div.sk-serial {display: flex;flex-direction: column;align-items: center;background-color: white;padding-right: 0.2em;padding-left: 0.2em;position: relative;}#sk-container-id-12 div.sk-item {position: relative;z-index: 1;}#sk-container-id-12 div.sk-parallel {display: flex;align-items: stretch;justify-content: center;background-color: white;position: relative;}#sk-container-id-12 div.sk-item::before, #sk-container-id-12 div.sk-parallel-item::before {content: \"\";position: absolute;border-left: 1px solid gray;box-sizing: border-box;top: 0;bottom: 0;left: 50%;z-index: -1;}#sk-container-id-12 div.sk-parallel-item {display: flex;flex-direction: column;z-index: 1;position: relative;background-color: white;}#sk-container-id-12 div.sk-parallel-item:first-child::after {align-self: flex-end;width: 50%;}#sk-container-id-12 div.sk-parallel-item:last-child::after {align-self: flex-start;width: 50%;}#sk-container-id-12 div.sk-parallel-item:only-child::after {width: 0;}#sk-container-id-12 div.sk-dashed-wrapped {border: 1px dashed gray;margin: 0 0.4em 0.5em 0.4em;box-sizing: border-box;padding-bottom: 0.4em;background-color: white;}#sk-container-id-12 div.sk-label label {font-family: monospace;font-weight: bold;display: inline-block;line-height: 1.2em;}#sk-container-id-12 div.sk-label-container {text-align: center;}#sk-container-id-12 div.sk-container {/* jupyter's `normalize.less` sets `[hidden] { display: none; }` but bootstrap.min.css set `[hidden] { display: none !important; }` so we also need the `!important` here to be able to override the default hidden behavior on the sphinx rendered scikit-learn.org. See: https://github.com/scikit-learn/scikit-learn/issues/21755 */display: inline-block !important;position: relative;}#sk-container-id-12 div.sk-text-repr-fallback {display: none;}</style><div id=\"sk-container-id-12\" class=\"sk-top-container\"><div class=\"sk-text-repr-fallback\"><pre>RandomizedSearchCV(cv=3,\n",
       "                   estimator=KerasClassifier(learning_rate=0.003, model=&lt;function build_model at 0x000001D50C68D4C0&gt;, n_hidden=1, n_neurons=30),\n",
       "                   param_distributions={&#x27;learning_rate&#x27;: &lt;scipy.stats._distn_infrastructure.rv_continuous_frozen object at 0x000001D50A9EB550&gt;,\n",
       "                                        &#x27;n_hidden&#x27;: [1, 2, 3, 4],\n",
       "                                        &#x27;n_neurons&#x27;: [10, 20, 30]})</pre><b>In a Jupyter environment, please rerun this cell to show the HTML representation or trust the notebook. <br />On GitHub, the HTML representation is unable to render, please try loading this page with nbviewer.org.</b></div><div class=\"sk-container\" hidden><div class=\"sk-item sk-dashed-wrapped\"><div class=\"sk-label-container\"><div class=\"sk-label sk-toggleable\"><input class=\"sk-toggleable__control sk-hidden--visually\" id=\"sk-estimator-id-16\" type=\"checkbox\" ><label for=\"sk-estimator-id-16\" class=\"sk-toggleable__label sk-toggleable__label-arrow\">RandomizedSearchCV</label><div class=\"sk-toggleable__content\"><pre>RandomizedSearchCV(cv=3,\n",
       "                   estimator=KerasClassifier(learning_rate=0.003, model=&lt;function build_model at 0x000001D50C68D4C0&gt;, n_hidden=1, n_neurons=30),\n",
       "                   param_distributions={&#x27;learning_rate&#x27;: &lt;scipy.stats._distn_infrastructure.rv_continuous_frozen object at 0x000001D50A9EB550&gt;,\n",
       "                                        &#x27;n_hidden&#x27;: [1, 2, 3, 4],\n",
       "                                        &#x27;n_neurons&#x27;: [10, 20, 30]})</pre></div></div></div><div class=\"sk-parallel\"><div class=\"sk-parallel-item\"><div class=\"sk-item\"><div class=\"sk-label-container\"><div class=\"sk-label sk-toggleable\"><input class=\"sk-toggleable__control sk-hidden--visually\" id=\"sk-estimator-id-17\" type=\"checkbox\" ><label for=\"sk-estimator-id-17\" class=\"sk-toggleable__label sk-toggleable__label-arrow\">estimator: KerasClassifier</label><div class=\"sk-toggleable__content\"><pre>KerasClassifier(\n",
       "\tmodel=&lt;function build_model at 0x000001D50C68D4C0&gt;\n",
       "\tbuild_fn=None\n",
       "\twarm_start=False\n",
       "\trandom_state=None\n",
       "\toptimizer=rmsprop\n",
       "\tloss=None\n",
       "\tmetrics=None\n",
       "\tbatch_size=None\n",
       "\tvalidation_batch_size=None\n",
       "\tverbose=1\n",
       "\tcallbacks=None\n",
       "\tvalidation_split=0.0\n",
       "\tshuffle=True\n",
       "\trun_eagerly=False\n",
       "\tepochs=1\n",
       "\tn_hidden=1\n",
       "\tn_neurons=30\n",
       "\tlearning_rate=0.003\n",
       "\tclass_weight=None\n",
       ")</pre></div></div></div><div class=\"sk-serial\"><div class=\"sk-item\"><div class=\"sk-estimator sk-toggleable\"><input class=\"sk-toggleable__control sk-hidden--visually\" id=\"sk-estimator-id-18\" type=\"checkbox\" ><label for=\"sk-estimator-id-18\" class=\"sk-toggleable__label sk-toggleable__label-arrow\">KerasClassifier</label><div class=\"sk-toggleable__content\"><pre>KerasClassifier(\n",
       "\tmodel=&lt;function build_model at 0x000001D50C68D4C0&gt;\n",
       "\tbuild_fn=None\n",
       "\twarm_start=False\n",
       "\trandom_state=None\n",
       "\toptimizer=rmsprop\n",
       "\tloss=None\n",
       "\tmetrics=None\n",
       "\tbatch_size=None\n",
       "\tvalidation_batch_size=None\n",
       "\tverbose=1\n",
       "\tcallbacks=None\n",
       "\tvalidation_split=0.0\n",
       "\tshuffle=True\n",
       "\trun_eagerly=False\n",
       "\tepochs=1\n",
       "\tn_hidden=1\n",
       "\tn_neurons=30\n",
       "\tlearning_rate=0.003\n",
       "\tclass_weight=None\n",
       ")</pre></div></div></div></div></div></div></div></div></div></div>"
      ],
      "text/plain": [
       "RandomizedSearchCV(cv=3,\n",
       "                   estimator=KerasClassifier(learning_rate=0.003, model=<function build_model at 0x000001D50C68D4C0>, n_hidden=1, n_neurons=30),\n",
       "                   param_distributions={'learning_rate': <scipy.stats._distn_infrastructure.rv_continuous_frozen object at 0x000001D50A9EB550>,\n",
       "                                        'n_hidden': [1, 2, 3, 4],\n",
       "                                        'n_neurons': [10, 20, 30]})"
      ]
     },
     "execution_count": 223,
     "metadata": {},
     "output_type": "execute_result"
    }
   ],
   "source": [
    "from scipy.stats import reciprocal\n",
    "from sklearn.model_selection import RandomizedSearchCV\n",
    "\n",
    "param_distribs = {\n",
    "    \"n_hidden\": [1,2,3,4],\n",
    "    \"n_neurons\": [10,20,30],\n",
    "    \"learning_rate\": reciprocal(3e-4, 3e-2)\n",
    "}\n",
    "rnd_search_cv = RandomizedSearchCV(keras_clf, param_distribs, n_iter=10, cv=3)\n",
    "rnd_search_cv.fit(afl_prepared, bin_labels, epochs=100,\n",
    "                  validation_split=0.2,\n",
    "                  callbacks=[keras.callbacks.EarlyStopping(patience=10)],\n",
    "                  verbose=0)\n"
   ]
  },
  {
   "cell_type": "code",
   "execution_count": 225,
   "metadata": {},
   "outputs": [
    {
     "data": {
      "text/plain": [
       "{'learning_rate': 0.0007357777707066484, 'n_hidden': 1, 'n_neurons': 30}"
      ]
     },
     "execution_count": 225,
     "metadata": {},
     "output_type": "execute_result"
    }
   ],
   "source": [
    "best_model = rnd_search_cv.best_estimator_.model_\n",
    "best_model.save(\"my_keras_model.h5\")\n",
    "rnd_search_cv.best_params_"
   ]
  },
  {
   "cell_type": "code",
   "execution_count": 226,
   "metadata": {},
   "outputs": [
    {
     "name": "stdout",
     "output_type": "stream",
     "text": [
      "76/76 [==============================] - 1s 2ms/step - loss: 0.6670\n",
      "38/38 [==============================] - 0s 1ms/step\n",
      "76/76 [==============================] - 1s 2ms/step - loss: 0.6390\n",
      "38/38 [==============================] - 0s 1ms/step\n",
      "76/76 [==============================] - 1s 2ms/step - loss: 0.6588\n",
      "38/38 [==============================] - 0s 1ms/step\n",
      "Accuracy = 64.51%\n"
     ]
    }
   ],
   "source": [
    "evaluate_model(rnd_search_cv.best_estimator_, afl_prepared, bin_labels)"
   ]
  },
  {
   "cell_type": "code",
   "execution_count": 227,
   "metadata": {},
   "outputs": [
    {
     "name": "stdout",
     "output_type": "stream",
     "text": [
      "76/76 [==============================] - 1s 2ms/step - loss: 0.6306\n",
      "38/38 [==============================] - 0s 1ms/step\n",
      "76/76 [==============================] - 1s 1ms/step - loss: 0.6436\n",
      "38/38 [==============================] - 0s 1ms/step\n",
      "76/76 [==============================] - 1s 2ms/step - loss: 0.6467\n",
      "38/38 [==============================] - 0s 1ms/step\n",
      "Accuracy = 64.40%\n"
     ]
    }
   ],
   "source": [
    "evaluate_model(KerasClassifier(model=build_model, n_hidden=1), afl_prepared, bin_labels)"
   ]
  }
 ],
 "metadata": {
  "kernelspec": {
   "display_name": "Python 3",
   "language": "python",
   "name": "python3"
  },
  "language_info": {
   "codemirror_mode": {
    "name": "ipython",
    "version": 3
   },
   "file_extension": ".py",
   "mimetype": "text/x-python",
   "name": "python",
   "nbconvert_exporter": "python",
   "pygments_lexer": "ipython3",
   "version": "3.8.10"
  },
  "orig_nbformat": 4
 },
 "nbformat": 4,
 "nbformat_minor": 2
}
